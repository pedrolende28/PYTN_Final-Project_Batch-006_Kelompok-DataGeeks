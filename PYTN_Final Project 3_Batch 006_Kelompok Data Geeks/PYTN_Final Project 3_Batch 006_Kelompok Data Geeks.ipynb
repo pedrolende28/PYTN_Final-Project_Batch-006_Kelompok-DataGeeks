{
 "cells": [
  {
   "cell_type": "markdown",
   "id": "fd78cc48",
   "metadata": {},
   "source": [
    "# Project Introduction"
   ]
  },
  {
   "cell_type": "markdown",
   "id": "156da1d2",
   "metadata": {},
   "source": [
    "Nama Kelompok:\n",
    "1. Christian Lamhot Tua\n",
    "2. Pedro Putrananda Lende"
   ]
  },
  {
   "cell_type": "markdown",
   "id": "d090f637",
   "metadata": {},
   "source": [
    "***Projects Overview***\n",
    "\n",
    "*Final Project 3* ini berisikan tentang penerapan materi *Supervised Machine Learning* yaitu dengan motode  *Classification*. Terdapat beberapa algoritma dalam metode classification yang digunakan pada project kali ini, diantaranya Logistic Regression, K-Nearest Neighbors, Support Vector Machine (SVM), Decision Tree, dan Naive Bayes. Tujuan dilaksanakannnya proyek ini yaitu adalah ensemble atau mencari model prediksi klasifikasi terbaik dari beberapa algoritma diatas yang digunakan di dalam prediksi. Data yang digunakan dalam *project* ini adalah data dokumentasi kondisi pasien penderita penyakit Kardiovaskular. Dataset ini terdiri dari 299 baris dan 13 kolom yang dapat diakses [di sini](https://www.kaggle.com/andrewmvd/heart-failure-clinical-data). Kolom `DEATH_EVENT` akan menjadi variabel dependent atau target untuk prediksi ini. Jadi, pada proyek kali ini kita akan memprediksi apakah seorang pasien tersebut diperkirakan akan menerima risiko kematian akibat gagal jantung/penyakit Kardiovaskular atau tidak berdasarkan pada fitur yang ada pada dataset.\n",
    "\n",
    "\n",
    "***About Dataset***\n",
    "\n",
    "Penyakit kardiovaskular (CVD) adalah penyebab kematian nomor 1 secara global, yang diperkirakan telah merenggut 17,9 juta jiwa setiap tahun, serta menyumbang 31% dari semua kematian di seluruh dunia. Gagal jantung adalah peristiwa umum yang disebabkan oleh CVD dan pada dataset ini berisi 12 fitur yang dapat digunakan untuk memprediksi kematian akibat gagal jantung. Sebagian besar penyakit kardiovaskular dapat dicegah dengan mengatasi faktor risiko perilaku seperti penggunaan tembakau, diet tidak sehat dan obesitas, aktivitas fisik dan penggunaan alkohol yang berbahaya menggunakan strategi di seluruh populasi. Orang dengan penyakit kardiovaskular atau yang berisiko kardiovaskular tinggi (karena adanya satu atau lebih faktor risiko seperti hipertensi, diabetes, hiperlipidaemia atau penyakit yang sudah mapan) memerlukan deteksi dini dan manajemen di mana model pembelajaran mesin dapat sangat membantu.\n",
    "\n",
    "\n",
    "***Attribute Information:***\n",
    "1. `age` - umur pasien\n",
    "2. `anaemia` - apakah ada pengurangan haemoglobin\n",
    "3. `creatinine_phosphokinase` - level enzim CPK dalam mcg/L\n",
    "4. `diabetes` - apakah pasien punya riwayat diabetes\n",
    "5. `ejection_fraction` - persentase darah yang meninggalkan jantung dalam persentasi di setiap kontraksi jantung\n",
    "6. `high_blood_pressure` - apakah pasien punya darah tinggi\n",
    "7. `platelets` - jumlah platelet di darah dalam kiloplatelets/mL\n",
    "8. `serum_creatinine` - level serum creatinine di darah dalam mg/dL\n",
    "9. `serum_sodium` - level serum sodium di darah dalam mEq/L\n",
    "10. `sex` - apakah pasien pria atau wanita\n",
    "11. `smoking` - apakah pasien merokok\n",
    "12. `time` - waktu dalam hari untuk follow-up\n",
    "13. `DEATH_EVENT` - apakah pasien sudah meninggal saat waktu follow-up\n",
    "\n",
    "***Sumber***  \n",
    "https://www.kode.id/courses/take/introduction-to-python-for-data-science-km/texts/25597242-final-project-3-ensemble\n",
    "https://www.kaggle.com/andrewmvd/heart-failure-clinical-data"
   ]
  },
  {
   "cell_type": "markdown",
   "id": "25d93d63",
   "metadata": {},
   "source": [
    "# Import Pustaka yang dibutuhkan"
   ]
  },
  {
   "cell_type": "code",
   "execution_count": 1,
   "id": "bb843325",
   "metadata": {},
   "outputs": [],
   "source": [
    "# Library Mengolah Data\n",
    "import pandas as pd\n",
    "import numpy as np\n",
    "\n",
    "# Library Visualisasi data\n",
    "import statistics\n",
    "import seaborn as sns\n",
    "import matplotlib.pyplot as plt\n",
    "from scipy import stats\n",
    "from sklearn.preprocessing import MinMaxScaler\n",
    "from sklearn.preprocessing import StandardScaler\n",
    "from sklearn.metrics import accuracy_score, confusion_matrix, classification_report, precision_score, recall_score\n",
    "from sklearn.model_selection import train_test_split\n",
    "from sklearn.ensemble import RandomForestClassifier\n",
    "from sklearn.linear_model import LogisticRegression\n",
    "from sklearn.neighbors import KNeighborsClassifier\n",
    "from sklearn.svm import SVC\n",
    "from sklearn.feature_selection import RFECV\n",
    "from sklearn.metrics import f1_score\n",
    "from sklearn.tree import DecisionTreeClassifier\n",
    "from sklearn.naive_bayes import GaussianNB\n",
    "import pickle\n",
    "\n",
    "# Supaya pesan warning tidak muncul,maka diignore\n",
    "import warnings\n",
    "warnings.filterwarnings(\"ignore\")"
   ]
  },
  {
   "cell_type": "markdown",
   "id": "abe885a6",
   "metadata": {},
   "source": [
    "# Data Loading"
   ]
  },
  {
   "cell_type": "markdown",
   "id": "7468f4a0",
   "metadata": {},
   "source": [
    "## Read Dataset"
   ]
  },
  {
   "cell_type": "markdown",
   "id": "36eafb54",
   "metadata": {},
   "source": [
    "<b> Untuk read file dataset:</b>"
   ]
  },
  {
   "cell_type": "code",
   "execution_count": 2,
   "id": "e8a3ebc0",
   "metadata": {},
   "outputs": [],
   "source": [
    "df = pd.read_csv(\"heart_failure_clinical_records_dataset.csv\")"
   ]
  },
  {
   "cell_type": "markdown",
   "id": "23cf7ca7",
   "metadata": {},
   "source": [
    "<b>Untuk melihat 5 data teratas dari dataset:</b>"
   ]
  },
  {
   "cell_type": "code",
   "execution_count": 3,
   "id": "d3cc932f",
   "metadata": {},
   "outputs": [
    {
     "data": {
      "text/html": [
       "<div>\n",
       "<style scoped>\n",
       "    .dataframe tbody tr th:only-of-type {\n",
       "        vertical-align: middle;\n",
       "    }\n",
       "\n",
       "    .dataframe tbody tr th {\n",
       "        vertical-align: top;\n",
       "    }\n",
       "\n",
       "    .dataframe thead th {\n",
       "        text-align: right;\n",
       "    }\n",
       "</style>\n",
       "<table border=\"1\" class=\"dataframe\">\n",
       "  <thead>\n",
       "    <tr style=\"text-align: right;\">\n",
       "      <th></th>\n",
       "      <th>age</th>\n",
       "      <th>anaemia</th>\n",
       "      <th>creatinine_phosphokinase</th>\n",
       "      <th>diabetes</th>\n",
       "      <th>ejection_fraction</th>\n",
       "      <th>high_blood_pressure</th>\n",
       "      <th>platelets</th>\n",
       "      <th>serum_creatinine</th>\n",
       "      <th>serum_sodium</th>\n",
       "      <th>sex</th>\n",
       "      <th>smoking</th>\n",
       "      <th>time</th>\n",
       "      <th>DEATH_EVENT</th>\n",
       "    </tr>\n",
       "  </thead>\n",
       "  <tbody>\n",
       "    <tr>\n",
       "      <th>0</th>\n",
       "      <td>75.0</td>\n",
       "      <td>0</td>\n",
       "      <td>582</td>\n",
       "      <td>0</td>\n",
       "      <td>20</td>\n",
       "      <td>1</td>\n",
       "      <td>265000.00</td>\n",
       "      <td>1.9</td>\n",
       "      <td>130</td>\n",
       "      <td>1</td>\n",
       "      <td>0</td>\n",
       "      <td>4</td>\n",
       "      <td>1</td>\n",
       "    </tr>\n",
       "    <tr>\n",
       "      <th>1</th>\n",
       "      <td>55.0</td>\n",
       "      <td>0</td>\n",
       "      <td>7861</td>\n",
       "      <td>0</td>\n",
       "      <td>38</td>\n",
       "      <td>0</td>\n",
       "      <td>263358.03</td>\n",
       "      <td>1.1</td>\n",
       "      <td>136</td>\n",
       "      <td>1</td>\n",
       "      <td>0</td>\n",
       "      <td>6</td>\n",
       "      <td>1</td>\n",
       "    </tr>\n",
       "    <tr>\n",
       "      <th>2</th>\n",
       "      <td>65.0</td>\n",
       "      <td>0</td>\n",
       "      <td>146</td>\n",
       "      <td>0</td>\n",
       "      <td>20</td>\n",
       "      <td>0</td>\n",
       "      <td>162000.00</td>\n",
       "      <td>1.3</td>\n",
       "      <td>129</td>\n",
       "      <td>1</td>\n",
       "      <td>1</td>\n",
       "      <td>7</td>\n",
       "      <td>1</td>\n",
       "    </tr>\n",
       "    <tr>\n",
       "      <th>3</th>\n",
       "      <td>50.0</td>\n",
       "      <td>1</td>\n",
       "      <td>111</td>\n",
       "      <td>0</td>\n",
       "      <td>20</td>\n",
       "      <td>0</td>\n",
       "      <td>210000.00</td>\n",
       "      <td>1.9</td>\n",
       "      <td>137</td>\n",
       "      <td>1</td>\n",
       "      <td>0</td>\n",
       "      <td>7</td>\n",
       "      <td>1</td>\n",
       "    </tr>\n",
       "    <tr>\n",
       "      <th>4</th>\n",
       "      <td>65.0</td>\n",
       "      <td>1</td>\n",
       "      <td>160</td>\n",
       "      <td>1</td>\n",
       "      <td>20</td>\n",
       "      <td>0</td>\n",
       "      <td>327000.00</td>\n",
       "      <td>2.7</td>\n",
       "      <td>116</td>\n",
       "      <td>0</td>\n",
       "      <td>0</td>\n",
       "      <td>8</td>\n",
       "      <td>1</td>\n",
       "    </tr>\n",
       "  </tbody>\n",
       "</table>\n",
       "</div>"
      ],
      "text/plain": [
       "    age  anaemia  creatinine_phosphokinase  diabetes  ejection_fraction  \\\n",
       "0  75.0        0                       582         0                 20   \n",
       "1  55.0        0                      7861         0                 38   \n",
       "2  65.0        0                       146         0                 20   \n",
       "3  50.0        1                       111         0                 20   \n",
       "4  65.0        1                       160         1                 20   \n",
       "\n",
       "   high_blood_pressure  platelets  serum_creatinine  serum_sodium  sex  \\\n",
       "0                    1  265000.00               1.9           130    1   \n",
       "1                    0  263358.03               1.1           136    1   \n",
       "2                    0  162000.00               1.3           129    1   \n",
       "3                    0  210000.00               1.9           137    1   \n",
       "4                    0  327000.00               2.7           116    0   \n",
       "\n",
       "   smoking  time  DEATH_EVENT  \n",
       "0        0     4            1  \n",
       "1        0     6            1  \n",
       "2        1     7            1  \n",
       "3        0     7            1  \n",
       "4        0     8            1  "
      ]
     },
     "execution_count": 3,
     "metadata": {},
     "output_type": "execute_result"
    }
   ],
   "source": [
    "df.head()"
   ]
  },
  {
   "cell_type": "markdown",
   "id": "0e86acbc",
   "metadata": {},
   "source": [
    "<b>Untuk melihat 5 data terakhir dari dataset:</b>"
   ]
  },
  {
   "cell_type": "code",
   "execution_count": 4,
   "id": "9ec83883",
   "metadata": {},
   "outputs": [
    {
     "data": {
      "text/html": [
       "<div>\n",
       "<style scoped>\n",
       "    .dataframe tbody tr th:only-of-type {\n",
       "        vertical-align: middle;\n",
       "    }\n",
       "\n",
       "    .dataframe tbody tr th {\n",
       "        vertical-align: top;\n",
       "    }\n",
       "\n",
       "    .dataframe thead th {\n",
       "        text-align: right;\n",
       "    }\n",
       "</style>\n",
       "<table border=\"1\" class=\"dataframe\">\n",
       "  <thead>\n",
       "    <tr style=\"text-align: right;\">\n",
       "      <th></th>\n",
       "      <th>age</th>\n",
       "      <th>anaemia</th>\n",
       "      <th>creatinine_phosphokinase</th>\n",
       "      <th>diabetes</th>\n",
       "      <th>ejection_fraction</th>\n",
       "      <th>high_blood_pressure</th>\n",
       "      <th>platelets</th>\n",
       "      <th>serum_creatinine</th>\n",
       "      <th>serum_sodium</th>\n",
       "      <th>sex</th>\n",
       "      <th>smoking</th>\n",
       "      <th>time</th>\n",
       "      <th>DEATH_EVENT</th>\n",
       "    </tr>\n",
       "  </thead>\n",
       "  <tbody>\n",
       "    <tr>\n",
       "      <th>294</th>\n",
       "      <td>62.0</td>\n",
       "      <td>0</td>\n",
       "      <td>61</td>\n",
       "      <td>1</td>\n",
       "      <td>38</td>\n",
       "      <td>1</td>\n",
       "      <td>155000.0</td>\n",
       "      <td>1.1</td>\n",
       "      <td>143</td>\n",
       "      <td>1</td>\n",
       "      <td>1</td>\n",
       "      <td>270</td>\n",
       "      <td>0</td>\n",
       "    </tr>\n",
       "    <tr>\n",
       "      <th>295</th>\n",
       "      <td>55.0</td>\n",
       "      <td>0</td>\n",
       "      <td>1820</td>\n",
       "      <td>0</td>\n",
       "      <td>38</td>\n",
       "      <td>0</td>\n",
       "      <td>270000.0</td>\n",
       "      <td>1.2</td>\n",
       "      <td>139</td>\n",
       "      <td>0</td>\n",
       "      <td>0</td>\n",
       "      <td>271</td>\n",
       "      <td>0</td>\n",
       "    </tr>\n",
       "    <tr>\n",
       "      <th>296</th>\n",
       "      <td>45.0</td>\n",
       "      <td>0</td>\n",
       "      <td>2060</td>\n",
       "      <td>1</td>\n",
       "      <td>60</td>\n",
       "      <td>0</td>\n",
       "      <td>742000.0</td>\n",
       "      <td>0.8</td>\n",
       "      <td>138</td>\n",
       "      <td>0</td>\n",
       "      <td>0</td>\n",
       "      <td>278</td>\n",
       "      <td>0</td>\n",
       "    </tr>\n",
       "    <tr>\n",
       "      <th>297</th>\n",
       "      <td>45.0</td>\n",
       "      <td>0</td>\n",
       "      <td>2413</td>\n",
       "      <td>0</td>\n",
       "      <td>38</td>\n",
       "      <td>0</td>\n",
       "      <td>140000.0</td>\n",
       "      <td>1.4</td>\n",
       "      <td>140</td>\n",
       "      <td>1</td>\n",
       "      <td>1</td>\n",
       "      <td>280</td>\n",
       "      <td>0</td>\n",
       "    </tr>\n",
       "    <tr>\n",
       "      <th>298</th>\n",
       "      <td>50.0</td>\n",
       "      <td>0</td>\n",
       "      <td>196</td>\n",
       "      <td>0</td>\n",
       "      <td>45</td>\n",
       "      <td>0</td>\n",
       "      <td>395000.0</td>\n",
       "      <td>1.6</td>\n",
       "      <td>136</td>\n",
       "      <td>1</td>\n",
       "      <td>1</td>\n",
       "      <td>285</td>\n",
       "      <td>0</td>\n",
       "    </tr>\n",
       "  </tbody>\n",
       "</table>\n",
       "</div>"
      ],
      "text/plain": [
       "      age  anaemia  creatinine_phosphokinase  diabetes  ejection_fraction  \\\n",
       "294  62.0        0                        61         1                 38   \n",
       "295  55.0        0                      1820         0                 38   \n",
       "296  45.0        0                      2060         1                 60   \n",
       "297  45.0        0                      2413         0                 38   \n",
       "298  50.0        0                       196         0                 45   \n",
       "\n",
       "     high_blood_pressure  platelets  serum_creatinine  serum_sodium  sex  \\\n",
       "294                    1   155000.0               1.1           143    1   \n",
       "295                    0   270000.0               1.2           139    0   \n",
       "296                    0   742000.0               0.8           138    0   \n",
       "297                    0   140000.0               1.4           140    1   \n",
       "298                    0   395000.0               1.6           136    1   \n",
       "\n",
       "     smoking  time  DEATH_EVENT  \n",
       "294        1   270            0  \n",
       "295        0   271            0  \n",
       "296        0   278            0  \n",
       "297        1   280            0  \n",
       "298        1   285            0  "
      ]
     },
     "execution_count": 4,
     "metadata": {},
     "output_type": "execute_result"
    }
   ],
   "source": [
    "df.tail()"
   ]
  },
  {
   "cell_type": "markdown",
   "id": "7f144615",
   "metadata": {},
   "source": [
    "<b> Untuk mengetahui dimensi dari dataset seperti informasi tentang jumlah baris dan kolom:</b>"
   ]
  },
  {
   "cell_type": "code",
   "execution_count": 5,
   "id": "969f655c",
   "metadata": {},
   "outputs": [
    {
     "name": "stdout",
     "output_type": "stream",
     "text": [
      "(299, 13)\n"
     ]
    }
   ],
   "source": [
    "print(df.shape)"
   ]
  },
  {
   "cell_type": "markdown",
   "id": "153dd493",
   "metadata": {},
   "source": [
    "Berdasarkan output diatas dapat kita ketahui bahwa dimensi dari data yaitu terdiri atas 299 baris dan 13 kolom"
   ]
  },
  {
   "cell_type": "markdown",
   "id": "3f9aefe4",
   "metadata": {},
   "source": [
    "<b>Untuk mendapatkan informasi tentang seluruh nama kolom,jumlah data yang kosong ditiap kolom serta tipe data pada masing-masing kolom dataset:</b>"
   ]
  },
  {
   "cell_type": "code",
   "execution_count": 6,
   "id": "5775d486",
   "metadata": {},
   "outputs": [
    {
     "name": "stdout",
     "output_type": "stream",
     "text": [
      "<class 'pandas.core.frame.DataFrame'>\n",
      "RangeIndex: 299 entries, 0 to 298\n",
      "Data columns (total 13 columns):\n",
      " #   Column                    Non-Null Count  Dtype  \n",
      "---  ------                    --------------  -----  \n",
      " 0   age                       299 non-null    float64\n",
      " 1   anaemia                   299 non-null    int64  \n",
      " 2   creatinine_phosphokinase  299 non-null    int64  \n",
      " 3   diabetes                  299 non-null    int64  \n",
      " 4   ejection_fraction         299 non-null    int64  \n",
      " 5   high_blood_pressure       299 non-null    int64  \n",
      " 6   platelets                 299 non-null    float64\n",
      " 7   serum_creatinine          299 non-null    float64\n",
      " 8   serum_sodium              299 non-null    int64  \n",
      " 9   sex                       299 non-null    int64  \n",
      " 10  smoking                   299 non-null    int64  \n",
      " 11  time                      299 non-null    int64  \n",
      " 12  DEATH_EVENT               299 non-null    int64  \n",
      "dtypes: float64(3), int64(10)\n",
      "memory usage: 30.5 KB\n",
      "None\n"
     ]
    }
   ],
   "source": [
    "print(df.info())"
   ]
  },
  {
   "cell_type": "markdown",
   "id": "8d2d17e5",
   "metadata": {},
   "source": [
    "Berdasarkan output dapat kita ketahui bahwa terdapat 3 kolom dengan tipe data *float* dan 10 kolom dengan tipe data *integer*."
   ]
  },
  {
   "cell_type": "markdown",
   "id": "beadbe78",
   "metadata": {},
   "source": [
    "# Data Cleaning"
   ]
  },
  {
   "cell_type": "markdown",
   "id": "9ab0a218",
   "metadata": {},
   "source": [
    "Data cleaning bertujuan untuk melihat apakah terdapat nilai yang hilang atau *missing values* pada dataset, nilai yang tidak signifikan satu sama lain, dan melihat apakah ada duplikasi dalam keseluruhan data sebelum kita lakukan eksplorasi data. Dan jika ditemukan hal-hal tersebut maka diperlukan langkah lebih lanjut. "
   ]
  },
  {
   "cell_type": "markdown",
   "id": "680154e4",
   "metadata": {},
   "source": [
    "## Melakukan Pengecekan Missing Values pada dataset berupa nilai NaN/null:"
   ]
  },
  {
   "cell_type": "code",
   "execution_count": 7,
   "id": "d16bfb28",
   "metadata": {
    "scrolled": false
   },
   "outputs": [
    {
     "data": {
      "text/plain": [
       "age                         0\n",
       "anaemia                     0\n",
       "creatinine_phosphokinase    0\n",
       "diabetes                    0\n",
       "ejection_fraction           0\n",
       "high_blood_pressure         0\n",
       "platelets                   0\n",
       "serum_creatinine            0\n",
       "serum_sodium                0\n",
       "sex                         0\n",
       "smoking                     0\n",
       "time                        0\n",
       "DEATH_EVENT                 0\n",
       "dtype: int64"
      ]
     },
     "execution_count": 7,
     "metadata": {},
     "output_type": "execute_result"
    }
   ],
   "source": [
    "df.isnull().sum()"
   ]
  },
  {
   "cell_type": "code",
   "execution_count": 8,
   "id": "d712773c",
   "metadata": {},
   "outputs": [
    {
     "data": {
      "text/plain": [
       "0"
      ]
     },
     "execution_count": 8,
     "metadata": {},
     "output_type": "execute_result"
    }
   ],
   "source": [
    "# Memeriksa apakah ada duplikasi dalam data\n",
    "df.duplicated().sum()"
   ]
  },
  {
   "cell_type": "markdown",
   "id": "8a4860ac",
   "metadata": {},
   "source": [
    "Berdasarkan *outuput* diatas dapat kita ketahui bahwa tidak terdapat missing value maupun duplikasi data di dalam keseluruhan dataset."
   ]
  },
  {
   "cell_type": "code",
   "execution_count": 9,
   "id": "9e4eb1a4",
   "metadata": {},
   "outputs": [],
   "source": [
    "# Mengganti nama kolom yang typo/salah ketik\n",
    "df.rename(columns= {\"anaemia\":\"anemia\"}, inplace = True)"
   ]
  },
  {
   "cell_type": "markdown",
   "id": "6aef1134",
   "metadata": {},
   "source": [
    "# Eksplorasi Data"
   ]
  },
  {
   "cell_type": "markdown",
   "id": "ffef8949",
   "metadata": {},
   "source": [
    "Eksplorasi data dilakukan untuk mengetahui data lebih dalam yaitu dengan mencari tahu variabel (fitur) apa yang berpengaruh terhadap variabel target, selain itu juga untuk memeriksa statistika deskriptif dan mengetahui distribusi data yang nantinya sangat berpengaruh dalam prediksi model."
   ]
  },
  {
   "cell_type": "markdown",
   "id": "18e22b67",
   "metadata": {},
   "source": [
    "## Korelasi antar fitur/kolom"
   ]
  },
  {
   "cell_type": "code",
   "execution_count": 10,
   "id": "4e223e19",
   "metadata": {},
   "outputs": [
    {
     "data": {
      "image/png": "[encoded data removed]",
      "text/plain": [
       "<Figure size 1080x720 with 2 Axes>"
      ]
     },
     "metadata": {
      "needs_background": "light"
     },
     "output_type": "display_data"
    }
   ],
   "source": [
    "plt.figure(figsize=(15, 10))\n",
    "ax = sns.heatmap(df.corr(), annot=True, cmap=\"YlOrRd\")"
   ]
  },
  {
   "cell_type": "markdown",
   "id": "f87f2abe",
   "metadata": {},
   "source": [
    "Berdasarkan plot heatmap dapat kita ketahui bahwa:\n",
    "1. variabel independent (fitur) `creatinine_phosphokinase`, dan `platelets`tidak memiliki korelasi yang signifikan dengan kolom target (`DEATH_EVENT`) karena memiliki korelasi kurang dari 0,2 sehingga tidak perlu kita gunakan\n",
    "2. Variabel `anemia`, `diabetes`, `high_blood_pressure`,  `sex`, dan `smoking` walapun memiliki nilai koefisien korelasi yang kecil tidak perlu kita drop karena merupakan kolom kategorik.\n",
    "2. Berdasarkan plot heatmap dapat kita ketahui bahwa kolom `age` berkorelasi positif walaupun cendrung rendah (0.25), yang berarti semakin tua umur seorang pasien, maka resiko kematian akibat penyakit jantung juga semakin tinggi.\n",
    "3. Berdasarkan plot heatmap kolom `ejection_fraction` dan `serum_sodium` memiliki koefisien korelasi rendah negatif (-0.27 dan -0.2), dimana berarti semakin rendah presentase darah yang keluar dari jantung maka semakin tinggi resiko kematian akibat penyakit jantung. Begitu pula semakin rendah level serum sodium maka resiko kematian akibat penyakit jantung juga semakin tinggi.\n",
    "4. Berdasarkan plot heatmap dapat kita ketahui bahwa kolom `serum_creatinne` memiliki koefisien korelasi positif dengan koefisien korelasi yang cukup rendah (0.29), dimana yang berarti semakin tinggi nilai level serum creatinne dalam tubuh pasien, maka resiko kematian akibat penyakit jantung juga semakin tinggi. \n",
    "5. Berdasarkan plot heatmap dapat kita ketahui bahwa kolom `time` berkorelasi negatif dengan kolom target dengan koefisien korelasi yang cukup besar (-0.53), dimana berarti semakin sering dilakukan *follow-up* kondisi pasien (dalam hari) maka resiko kematian akibat penyakit jantung semakin kecil."
   ]
  },
  {
   "cell_type": "code",
   "execution_count": 11,
   "id": "58658adb",
   "metadata": {},
   "outputs": [
    {
     "data": {
      "text/html": [
       "<div>\n",
       "<style scoped>\n",
       "    .dataframe tbody tr th:only-of-type {\n",
       "        vertical-align: middle;\n",
       "    }\n",
       "\n",
       "    .dataframe tbody tr th {\n",
       "        vertical-align: top;\n",
       "    }\n",
       "\n",
       "    .dataframe thead th {\n",
       "        text-align: right;\n",
       "    }\n",
       "</style>\n",
       "<table border=\"1\" class=\"dataframe\">\n",
       "  <thead>\n",
       "    <tr style=\"text-align: right;\">\n",
       "      <th></th>\n",
       "      <th>age</th>\n",
       "      <th>anemia</th>\n",
       "      <th>diabetes</th>\n",
       "      <th>ejection_fraction</th>\n",
       "      <th>high_blood_pressure</th>\n",
       "      <th>serum_creatinine</th>\n",
       "      <th>serum_sodium</th>\n",
       "      <th>sex</th>\n",
       "      <th>smoking</th>\n",
       "      <th>time</th>\n",
       "      <th>DEATH_EVENT</th>\n",
       "    </tr>\n",
       "  </thead>\n",
       "  <tbody>\n",
       "    <tr>\n",
       "      <th>0</th>\n",
       "      <td>75.0</td>\n",
       "      <td>0</td>\n",
       "      <td>0</td>\n",
       "      <td>20</td>\n",
       "      <td>1</td>\n",
       "      <td>1.9</td>\n",
       "      <td>130</td>\n",
       "      <td>1</td>\n",
       "      <td>0</td>\n",
       "      <td>4</td>\n",
       "      <td>1</td>\n",
       "    </tr>\n",
       "    <tr>\n",
       "      <th>1</th>\n",
       "      <td>55.0</td>\n",
       "      <td>0</td>\n",
       "      <td>0</td>\n",
       "      <td>38</td>\n",
       "      <td>0</td>\n",
       "      <td>1.1</td>\n",
       "      <td>136</td>\n",
       "      <td>1</td>\n",
       "      <td>0</td>\n",
       "      <td>6</td>\n",
       "      <td>1</td>\n",
       "    </tr>\n",
       "    <tr>\n",
       "      <th>2</th>\n",
       "      <td>65.0</td>\n",
       "      <td>0</td>\n",
       "      <td>0</td>\n",
       "      <td>20</td>\n",
       "      <td>0</td>\n",
       "      <td>1.3</td>\n",
       "      <td>129</td>\n",
       "      <td>1</td>\n",
       "      <td>1</td>\n",
       "      <td>7</td>\n",
       "      <td>1</td>\n",
       "    </tr>\n",
       "    <tr>\n",
       "      <th>3</th>\n",
       "      <td>50.0</td>\n",
       "      <td>1</td>\n",
       "      <td>0</td>\n",
       "      <td>20</td>\n",
       "      <td>0</td>\n",
       "      <td>1.9</td>\n",
       "      <td>137</td>\n",
       "      <td>1</td>\n",
       "      <td>0</td>\n",
       "      <td>7</td>\n",
       "      <td>1</td>\n",
       "    </tr>\n",
       "    <tr>\n",
       "      <th>4</th>\n",
       "      <td>65.0</td>\n",
       "      <td>1</td>\n",
       "      <td>1</td>\n",
       "      <td>20</td>\n",
       "      <td>0</td>\n",
       "      <td>2.7</td>\n",
       "      <td>116</td>\n",
       "      <td>0</td>\n",
       "      <td>0</td>\n",
       "      <td>8</td>\n",
       "      <td>1</td>\n",
       "    </tr>\n",
       "    <tr>\n",
       "      <th>...</th>\n",
       "      <td>...</td>\n",
       "      <td>...</td>\n",
       "      <td>...</td>\n",
       "      <td>...</td>\n",
       "      <td>...</td>\n",
       "      <td>...</td>\n",
       "      <td>...</td>\n",
       "      <td>...</td>\n",
       "      <td>...</td>\n",
       "      <td>...</td>\n",
       "      <td>...</td>\n",
       "    </tr>\n",
       "    <tr>\n",
       "      <th>294</th>\n",
       "      <td>62.0</td>\n",
       "      <td>0</td>\n",
       "      <td>1</td>\n",
       "      <td>38</td>\n",
       "      <td>1</td>\n",
       "      <td>1.1</td>\n",
       "      <td>143</td>\n",
       "      <td>1</td>\n",
       "      <td>1</td>\n",
       "      <td>270</td>\n",
       "      <td>0</td>\n",
       "    </tr>\n",
       "    <tr>\n",
       "      <th>295</th>\n",
       "      <td>55.0</td>\n",
       "      <td>0</td>\n",
       "      <td>0</td>\n",
       "      <td>38</td>\n",
       "      <td>0</td>\n",
       "      <td>1.2</td>\n",
       "      <td>139</td>\n",
       "      <td>0</td>\n",
       "      <td>0</td>\n",
       "      <td>271</td>\n",
       "      <td>0</td>\n",
       "    </tr>\n",
       "    <tr>\n",
       "      <th>296</th>\n",
       "      <td>45.0</td>\n",
       "      <td>0</td>\n",
       "      <td>1</td>\n",
       "      <td>60</td>\n",
       "      <td>0</td>\n",
       "      <td>0.8</td>\n",
       "      <td>138</td>\n",
       "      <td>0</td>\n",
       "      <td>0</td>\n",
       "      <td>278</td>\n",
       "      <td>0</td>\n",
       "    </tr>\n",
       "    <tr>\n",
       "      <th>297</th>\n",
       "      <td>45.0</td>\n",
       "      <td>0</td>\n",
       "      <td>0</td>\n",
       "      <td>38</td>\n",
       "      <td>0</td>\n",
       "      <td>1.4</td>\n",
       "      <td>140</td>\n",
       "      <td>1</td>\n",
       "      <td>1</td>\n",
       "      <td>280</td>\n",
       "      <td>0</td>\n",
       "    </tr>\n",
       "    <tr>\n",
       "      <th>298</th>\n",
       "      <td>50.0</td>\n",
       "      <td>0</td>\n",
       "      <td>0</td>\n",
       "      <td>45</td>\n",
       "      <td>0</td>\n",
       "      <td>1.6</td>\n",
       "      <td>136</td>\n",
       "      <td>1</td>\n",
       "      <td>1</td>\n",
       "      <td>285</td>\n",
       "      <td>0</td>\n",
       "    </tr>\n",
       "  </tbody>\n",
       "</table>\n",
       "<p>299 rows × 11 columns</p>\n",
       "</div>"
      ],
      "text/plain": [
       "      age  anemia  diabetes  ejection_fraction  high_blood_pressure  \\\n",
       "0    75.0       0         0                 20                    1   \n",
       "1    55.0       0         0                 38                    0   \n",
       "2    65.0       0         0                 20                    0   \n",
       "3    50.0       1         0                 20                    0   \n",
       "4    65.0       1         1                 20                    0   \n",
       "..    ...     ...       ...                ...                  ...   \n",
       "294  62.0       0         1                 38                    1   \n",
       "295  55.0       0         0                 38                    0   \n",
       "296  45.0       0         1                 60                    0   \n",
       "297  45.0       0         0                 38                    0   \n",
       "298  50.0       0         0                 45                    0   \n",
       "\n",
       "     serum_creatinine  serum_sodium  sex  smoking  time  DEATH_EVENT  \n",
       "0                 1.9           130    1        0     4            1  \n",
       "1                 1.1           136    1        0     6            1  \n",
       "2                 1.3           129    1        1     7            1  \n",
       "3                 1.9           137    1        0     7            1  \n",
       "4                 2.7           116    0        0     8            1  \n",
       "..                ...           ...  ...      ...   ...          ...  \n",
       "294               1.1           143    1        1   270            0  \n",
       "295               1.2           139    0        0   271            0  \n",
       "296               0.8           138    0        0   278            0  \n",
       "297               1.4           140    1        1   280            0  \n",
       "298               1.6           136    1        1   285            0  \n",
       "\n",
       "[299 rows x 11 columns]"
      ]
     },
     "execution_count": 11,
     "metadata": {},
     "output_type": "execute_result"
    }
   ],
   "source": [
    "# menghapus data creatinine_phosphokinase dan platelets yang tidak memiliki korekasi signifikan dengan kolom target\n",
    "df= df.drop(['creatinine_phosphokinase','platelets'], axis=1)\n",
    "df"
   ]
  },
  {
   "cell_type": "markdown",
   "id": "cf7d5aa7",
   "metadata": {},
   "source": [
    "## Statistik deskriptif dan distribusi masing-masing fitur/kolom"
   ]
  },
  {
   "cell_type": "markdown",
   "id": "88011b66",
   "metadata": {},
   "source": [
    "Melihat beberapa rincian statistik masing-masing fitur/kolom."
   ]
  },
  {
   "cell_type": "code",
   "execution_count": 12,
   "id": "77cb183b",
   "metadata": {},
   "outputs": [
    {
     "data": {
      "text/html": [
       "<div>\n",
       "<style scoped>\n",
       "    .dataframe tbody tr th:only-of-type {\n",
       "        vertical-align: middle;\n",
       "    }\n",
       "\n",
       "    .dataframe tbody tr th {\n",
       "        vertical-align: top;\n",
       "    }\n",
       "\n",
       "    .dataframe thead th {\n",
       "        text-align: right;\n",
       "    }\n",
       "</style>\n",
       "<table border=\"1\" class=\"dataframe\">\n",
       "  <thead>\n",
       "    <tr style=\"text-align: right;\">\n",
       "      <th></th>\n",
       "      <th>age</th>\n",
       "      <th>anemia</th>\n",
       "      <th>diabetes</th>\n",
       "      <th>ejection_fraction</th>\n",
       "      <th>high_blood_pressure</th>\n",
       "      <th>serum_creatinine</th>\n",
       "      <th>serum_sodium</th>\n",
       "      <th>sex</th>\n",
       "      <th>smoking</th>\n",
       "      <th>time</th>\n",
       "      <th>DEATH_EVENT</th>\n",
       "    </tr>\n",
       "  </thead>\n",
       "  <tbody>\n",
       "    <tr>\n",
       "      <th>count</th>\n",
       "      <td>299.000000</td>\n",
       "      <td>299.000000</td>\n",
       "      <td>299.000000</td>\n",
       "      <td>299.000000</td>\n",
       "      <td>299.000000</td>\n",
       "      <td>299.00000</td>\n",
       "      <td>299.000000</td>\n",
       "      <td>299.000000</td>\n",
       "      <td>299.00000</td>\n",
       "      <td>299.000000</td>\n",
       "      <td>299.00000</td>\n",
       "    </tr>\n",
       "    <tr>\n",
       "      <th>mean</th>\n",
       "      <td>60.833893</td>\n",
       "      <td>0.431438</td>\n",
       "      <td>0.418060</td>\n",
       "      <td>38.083612</td>\n",
       "      <td>0.351171</td>\n",
       "      <td>1.39388</td>\n",
       "      <td>136.625418</td>\n",
       "      <td>0.648829</td>\n",
       "      <td>0.32107</td>\n",
       "      <td>130.260870</td>\n",
       "      <td>0.32107</td>\n",
       "    </tr>\n",
       "    <tr>\n",
       "      <th>std</th>\n",
       "      <td>11.894809</td>\n",
       "      <td>0.496107</td>\n",
       "      <td>0.494067</td>\n",
       "      <td>11.834841</td>\n",
       "      <td>0.478136</td>\n",
       "      <td>1.03451</td>\n",
       "      <td>4.412477</td>\n",
       "      <td>0.478136</td>\n",
       "      <td>0.46767</td>\n",
       "      <td>77.614208</td>\n",
       "      <td>0.46767</td>\n",
       "    </tr>\n",
       "    <tr>\n",
       "      <th>min</th>\n",
       "      <td>40.000000</td>\n",
       "      <td>0.000000</td>\n",
       "      <td>0.000000</td>\n",
       "      <td>14.000000</td>\n",
       "      <td>0.000000</td>\n",
       "      <td>0.50000</td>\n",
       "      <td>113.000000</td>\n",
       "      <td>0.000000</td>\n",
       "      <td>0.00000</td>\n",
       "      <td>4.000000</td>\n",
       "      <td>0.00000</td>\n",
       "    </tr>\n",
       "    <tr>\n",
       "      <th>25%</th>\n",
       "      <td>51.000000</td>\n",
       "      <td>0.000000</td>\n",
       "      <td>0.000000</td>\n",
       "      <td>30.000000</td>\n",
       "      <td>0.000000</td>\n",
       "      <td>0.90000</td>\n",
       "      <td>134.000000</td>\n",
       "      <td>0.000000</td>\n",
       "      <td>0.00000</td>\n",
       "      <td>73.000000</td>\n",
       "      <td>0.00000</td>\n",
       "    </tr>\n",
       "    <tr>\n",
       "      <th>50%</th>\n",
       "      <td>60.000000</td>\n",
       "      <td>0.000000</td>\n",
       "      <td>0.000000</td>\n",
       "      <td>38.000000</td>\n",
       "      <td>0.000000</td>\n",
       "      <td>1.10000</td>\n",
       "      <td>137.000000</td>\n",
       "      <td>1.000000</td>\n",
       "      <td>0.00000</td>\n",
       "      <td>115.000000</td>\n",
       "      <td>0.00000</td>\n",
       "    </tr>\n",
       "    <tr>\n",
       "      <th>75%</th>\n",
       "      <td>70.000000</td>\n",
       "      <td>1.000000</td>\n",
       "      <td>1.000000</td>\n",
       "      <td>45.000000</td>\n",
       "      <td>1.000000</td>\n",
       "      <td>1.40000</td>\n",
       "      <td>140.000000</td>\n",
       "      <td>1.000000</td>\n",
       "      <td>1.00000</td>\n",
       "      <td>203.000000</td>\n",
       "      <td>1.00000</td>\n",
       "    </tr>\n",
       "    <tr>\n",
       "      <th>max</th>\n",
       "      <td>95.000000</td>\n",
       "      <td>1.000000</td>\n",
       "      <td>1.000000</td>\n",
       "      <td>80.000000</td>\n",
       "      <td>1.000000</td>\n",
       "      <td>9.40000</td>\n",
       "      <td>148.000000</td>\n",
       "      <td>1.000000</td>\n",
       "      <td>1.00000</td>\n",
       "      <td>285.000000</td>\n",
       "      <td>1.00000</td>\n",
       "    </tr>\n",
       "  </tbody>\n",
       "</table>\n",
       "</div>"
      ],
      "text/plain": [
       "              age      anemia    diabetes  ejection_fraction  \\\n",
       "count  299.000000  299.000000  299.000000         299.000000   \n",
       "mean    60.833893    0.431438    0.418060          38.083612   \n",
       "std     11.894809    0.496107    0.494067          11.834841   \n",
       "min     40.000000    0.000000    0.000000          14.000000   \n",
       "25%     51.000000    0.000000    0.000000          30.000000   \n",
       "50%     60.000000    0.000000    0.000000          38.000000   \n",
       "75%     70.000000    1.000000    1.000000          45.000000   \n",
       "max     95.000000    1.000000    1.000000          80.000000   \n",
       "\n",
       "       high_blood_pressure  serum_creatinine  serum_sodium         sex  \\\n",
       "count           299.000000         299.00000    299.000000  299.000000   \n",
       "mean              0.351171           1.39388    136.625418    0.648829   \n",
       "std               0.478136           1.03451      4.412477    0.478136   \n",
       "min               0.000000           0.50000    113.000000    0.000000   \n",
       "25%               0.000000           0.90000    134.000000    0.000000   \n",
       "50%               0.000000           1.10000    137.000000    1.000000   \n",
       "75%               1.000000           1.40000    140.000000    1.000000   \n",
       "max               1.000000           9.40000    148.000000    1.000000   \n",
       "\n",
       "         smoking        time  DEATH_EVENT  \n",
       "count  299.00000  299.000000    299.00000  \n",
       "mean     0.32107  130.260870      0.32107  \n",
       "std      0.46767   77.614208      0.46767  \n",
       "min      0.00000    4.000000      0.00000  \n",
       "25%      0.00000   73.000000      0.00000  \n",
       "50%      0.00000  115.000000      0.00000  \n",
       "75%      1.00000  203.000000      1.00000  \n",
       "max      1.00000  285.000000      1.00000  "
      ]
     },
     "execution_count": 12,
     "metadata": {},
     "output_type": "execute_result"
    }
   ],
   "source": [
    "df.describe()"
   ]
  },
  {
   "cell_type": "markdown",
   "id": "786588cd",
   "metadata": {},
   "source": [
    "Memeriksa distribusi data menggunakan Histogram."
   ]
  },
  {
   "cell_type": "code",
   "execution_count": 13,
   "id": "506af2c9",
   "metadata": {
    "scrolled": false
   },
   "outputs": [
    {
     "data": {
      "image/png": "[encoded data removed]",
      "text/plain": [
       "<Figure size 1440x1440 with 12 Axes>"
      ]
     },
     "metadata": {
      "needs_background": "light"
     },
     "output_type": "display_data"
    }
   ],
   "source": [
    "df.hist(figsize=(20, 20))\n",
    "plt.show()"
   ]
  },
  {
   "cell_type": "markdown",
   "id": "df900ad3",
   "metadata": {},
   "source": [
    "Berdasarkan plot histogram diatas dapat kita lihat secara visual bahwa hampir setiap fitur pada dataset tidak berdistribusi secara normal. Dan berdasarkan plot juga dapat kita ketahui bahwa umur pasien yang tercatat dalam data yang memiliki frekuensi tertinggi yaitu sekitar umur 55 - 65 tahun."
   ]
  },
  {
   "cell_type": "markdown",
   "id": "d9fe780b",
   "metadata": {},
   "source": [
    "#### Menghitung kecondongan set data, yang menggambarkan simetri set data tersebut terhadap rata-ratanya."
   ]
  },
  {
   "cell_type": "code",
   "execution_count": 14,
   "id": "5e74b8fc",
   "metadata": {},
   "outputs": [
    {
     "data": {
      "text/plain": [
       "age                    0.423062\n",
       "anemia                 0.278261\n",
       "diabetes               0.333929\n",
       "ejection_fraction      0.555383\n",
       "high_blood_pressure    0.626732\n",
       "serum_creatinine       4.455996\n",
       "serum_sodium          -1.048136\n",
       "sex                   -0.626732\n",
       "smoking                0.770349\n",
       "time                   0.127803\n",
       "DEATH_EVENT            0.770349\n",
       "dtype: float64"
      ]
     },
     "execution_count": 14,
     "metadata": {},
     "output_type": "execute_result"
    }
   ],
   "source": [
    "df.skew()"
   ]
  },
  {
   "cell_type": "markdown",
   "id": "dcc3eaaa",
   "metadata": {},
   "source": [
    "Berdasarkan output diatas dapat kita lihat bahwa kolom *creatinine_phosphokinase* dan *serum_creatinine* mempunya nilai *skewness* tertinggi yang berarti kedua kolom tersebut memiliki nilai modus dan median yang lebih rendah dibanding nilai rata-ratanya. Sedangkan kolom *serum_sodium* dan *sex* memiliki nilai kemiringan atau *skewness* negatif, yang artinya nilai modus dan median lebih tinggi dibanding nilai rata-ratanya."
   ]
  },
  {
   "cell_type": "markdown",
   "id": "f2bdbf75",
   "metadata": {},
   "source": [
    "<b> Data dikatakan bernilai normal ketika nilai rasio skewness berada pada rentang nilai -2 sampai 2.Kolom serum_creatinine memiliki nilai 4.455996 pada hasil uji skewness sehingga dapat kita hapus karena data tersebut tidak bernilai normal"
   ]
  },
  {
   "cell_type": "code",
   "execution_count": 15,
   "id": "c179fb80",
   "metadata": {},
   "outputs": [
    {
     "data": {
      "text/html": [
       "<div>\n",
       "<style scoped>\n",
       "    .dataframe tbody tr th:only-of-type {\n",
       "        vertical-align: middle;\n",
       "    }\n",
       "\n",
       "    .dataframe tbody tr th {\n",
       "        vertical-align: top;\n",
       "    }\n",
       "\n",
       "    .dataframe thead th {\n",
       "        text-align: right;\n",
       "    }\n",
       "</style>\n",
       "<table border=\"1\" class=\"dataframe\">\n",
       "  <thead>\n",
       "    <tr style=\"text-align: right;\">\n",
       "      <th></th>\n",
       "      <th>age</th>\n",
       "      <th>anemia</th>\n",
       "      <th>diabetes</th>\n",
       "      <th>ejection_fraction</th>\n",
       "      <th>high_blood_pressure</th>\n",
       "      <th>serum_sodium</th>\n",
       "      <th>sex</th>\n",
       "      <th>smoking</th>\n",
       "      <th>time</th>\n",
       "      <th>DEATH_EVENT</th>\n",
       "    </tr>\n",
       "  </thead>\n",
       "  <tbody>\n",
       "    <tr>\n",
       "      <th>0</th>\n",
       "      <td>75.0</td>\n",
       "      <td>0</td>\n",
       "      <td>0</td>\n",
       "      <td>20</td>\n",
       "      <td>1</td>\n",
       "      <td>130</td>\n",
       "      <td>1</td>\n",
       "      <td>0</td>\n",
       "      <td>4</td>\n",
       "      <td>1</td>\n",
       "    </tr>\n",
       "    <tr>\n",
       "      <th>1</th>\n",
       "      <td>55.0</td>\n",
       "      <td>0</td>\n",
       "      <td>0</td>\n",
       "      <td>38</td>\n",
       "      <td>0</td>\n",
       "      <td>136</td>\n",
       "      <td>1</td>\n",
       "      <td>0</td>\n",
       "      <td>6</td>\n",
       "      <td>1</td>\n",
       "    </tr>\n",
       "    <tr>\n",
       "      <th>2</th>\n",
       "      <td>65.0</td>\n",
       "      <td>0</td>\n",
       "      <td>0</td>\n",
       "      <td>20</td>\n",
       "      <td>0</td>\n",
       "      <td>129</td>\n",
       "      <td>1</td>\n",
       "      <td>1</td>\n",
       "      <td>7</td>\n",
       "      <td>1</td>\n",
       "    </tr>\n",
       "    <tr>\n",
       "      <th>3</th>\n",
       "      <td>50.0</td>\n",
       "      <td>1</td>\n",
       "      <td>0</td>\n",
       "      <td>20</td>\n",
       "      <td>0</td>\n",
       "      <td>137</td>\n",
       "      <td>1</td>\n",
       "      <td>0</td>\n",
       "      <td>7</td>\n",
       "      <td>1</td>\n",
       "    </tr>\n",
       "    <tr>\n",
       "      <th>4</th>\n",
       "      <td>65.0</td>\n",
       "      <td>1</td>\n",
       "      <td>1</td>\n",
       "      <td>20</td>\n",
       "      <td>0</td>\n",
       "      <td>116</td>\n",
       "      <td>0</td>\n",
       "      <td>0</td>\n",
       "      <td>8</td>\n",
       "      <td>1</td>\n",
       "    </tr>\n",
       "    <tr>\n",
       "      <th>...</th>\n",
       "      <td>...</td>\n",
       "      <td>...</td>\n",
       "      <td>...</td>\n",
       "      <td>...</td>\n",
       "      <td>...</td>\n",
       "      <td>...</td>\n",
       "      <td>...</td>\n",
       "      <td>...</td>\n",
       "      <td>...</td>\n",
       "      <td>...</td>\n",
       "    </tr>\n",
       "    <tr>\n",
       "      <th>294</th>\n",
       "      <td>62.0</td>\n",
       "      <td>0</td>\n",
       "      <td>1</td>\n",
       "      <td>38</td>\n",
       "      <td>1</td>\n",
       "      <td>143</td>\n",
       "      <td>1</td>\n",
       "      <td>1</td>\n",
       "      <td>270</td>\n",
       "      <td>0</td>\n",
       "    </tr>\n",
       "    <tr>\n",
       "      <th>295</th>\n",
       "      <td>55.0</td>\n",
       "      <td>0</td>\n",
       "      <td>0</td>\n",
       "      <td>38</td>\n",
       "      <td>0</td>\n",
       "      <td>139</td>\n",
       "      <td>0</td>\n",
       "      <td>0</td>\n",
       "      <td>271</td>\n",
       "      <td>0</td>\n",
       "    </tr>\n",
       "    <tr>\n",
       "      <th>296</th>\n",
       "      <td>45.0</td>\n",
       "      <td>0</td>\n",
       "      <td>1</td>\n",
       "      <td>60</td>\n",
       "      <td>0</td>\n",
       "      <td>138</td>\n",
       "      <td>0</td>\n",
       "      <td>0</td>\n",
       "      <td>278</td>\n",
       "      <td>0</td>\n",
       "    </tr>\n",
       "    <tr>\n",
       "      <th>297</th>\n",
       "      <td>45.0</td>\n",
       "      <td>0</td>\n",
       "      <td>0</td>\n",
       "      <td>38</td>\n",
       "      <td>0</td>\n",
       "      <td>140</td>\n",
       "      <td>1</td>\n",
       "      <td>1</td>\n",
       "      <td>280</td>\n",
       "      <td>0</td>\n",
       "    </tr>\n",
       "    <tr>\n",
       "      <th>298</th>\n",
       "      <td>50.0</td>\n",
       "      <td>0</td>\n",
       "      <td>0</td>\n",
       "      <td>45</td>\n",
       "      <td>0</td>\n",
       "      <td>136</td>\n",
       "      <td>1</td>\n",
       "      <td>1</td>\n",
       "      <td>285</td>\n",
       "      <td>0</td>\n",
       "    </tr>\n",
       "  </tbody>\n",
       "</table>\n",
       "<p>299 rows × 10 columns</p>\n",
       "</div>"
      ],
      "text/plain": [
       "      age  anemia  diabetes  ejection_fraction  high_blood_pressure  \\\n",
       "0    75.0       0         0                 20                    1   \n",
       "1    55.0       0         0                 38                    0   \n",
       "2    65.0       0         0                 20                    0   \n",
       "3    50.0       1         0                 20                    0   \n",
       "4    65.0       1         1                 20                    0   \n",
       "..    ...     ...       ...                ...                  ...   \n",
       "294  62.0       0         1                 38                    1   \n",
       "295  55.0       0         0                 38                    0   \n",
       "296  45.0       0         1                 60                    0   \n",
       "297  45.0       0         0                 38                    0   \n",
       "298  50.0       0         0                 45                    0   \n",
       "\n",
       "     serum_sodium  sex  smoking  time  DEATH_EVENT  \n",
       "0             130    1        0     4            1  \n",
       "1             136    1        0     6            1  \n",
       "2             129    1        1     7            1  \n",
       "3             137    1        0     7            1  \n",
       "4             116    0        0     8            1  \n",
       "..            ...  ...      ...   ...          ...  \n",
       "294           143    1        1   270            0  \n",
       "295           139    0        0   271            0  \n",
       "296           138    0        0   278            0  \n",
       "297           140    1        1   280            0  \n",
       "298           136    1        1   285            0  \n",
       "\n",
       "[299 rows x 10 columns]"
      ]
     },
     "execution_count": 15,
     "metadata": {},
     "output_type": "execute_result"
    }
   ],
   "source": [
    "# menghapus data serum_creatinine karena bernilai > 2\n",
    "df= df.drop(['serum_creatinine'], axis=1)\n",
    "df"
   ]
  },
  {
   "cell_type": "markdown",
   "id": "de7956c5",
   "metadata": {},
   "source": [
    "## Uji normalitas data"
   ]
  },
  {
   "cell_type": "markdown",
   "id": "b353ad75",
   "metadata": {},
   "source": [
    "Selanjutnya akan diperiksa apakah data numerik berdistribusi dengan normal atau tidak."
   ]
  },
  {
   "cell_type": "code",
   "execution_count": 16,
   "id": "c9fe474e",
   "metadata": {
    "scrolled": false
   },
   "outputs": [
    {
     "data": {
      "image/png": "[encoded data removed]",
      "text/plain": [
       "<Figure size 1296x2880 with 4 Axes>"
      ]
     },
     "metadata": {
      "needs_background": "light"
     },
     "output_type": "display_data"
    }
   ],
   "source": [
    "# Variable names\n",
    "columns = [\"age\", \"ejection_fraction\", \"serum_sodium\", \"time\"]\n",
    "\n",
    "# Create the plot\n",
    "plt.figure(figsize=(18, 40))\n",
    "\n",
    "for i in range(1, 5):\n",
    "    plt.subplot(7, 2, i)\n",
    "    stats.probplot(df[columns[i-1]], dist=\"norm\", plot=plt)\n",
    "    plt.title(columns[i-1])"
   ]
  },
  {
   "cell_type": "markdown",
   "id": "3a670ae2",
   "metadata": {},
   "source": [
    "Berdasarkan plot, secara visualisasi dapat dapat kita ketahui bahwa kolom kolom numerik seperti `age`, `ejection_fraction`, `serum_sodium`, dan `time` mempunyai titk yang menyabar diantara garis  normal, sehingga dapat kita simpulkan bahwa kolom tersebut mempunya data yang bersebar seara normal walau terdapat beberapa outlier"
   ]
  },
  {
   "cell_type": "markdown",
   "id": "762f0b1b",
   "metadata": {},
   "source": [
    "## Jumlah masing-masing nilai unik pada kolom target"
   ]
  },
  {
   "cell_type": "markdown",
   "id": "1b94a4f2",
   "metadata": {},
   "source": [
    "Melihat nilai unik pada variabel `target`."
   ]
  },
  {
   "cell_type": "code",
   "execution_count": 17,
   "id": "2f45f226",
   "metadata": {
    "scrolled": true
   },
   "outputs": [
    {
     "data": {
      "text/plain": [
       "array([1, 0], dtype=int64)"
      ]
     },
     "execution_count": 17,
     "metadata": {},
     "output_type": "execute_result"
    }
   ],
   "source": [
    "df[\"DEATH_EVENT\"].unique()"
   ]
  },
  {
   "cell_type": "markdown",
   "id": "926f5e5f",
   "metadata": {},
   "source": [
    "Diketahui:terdapat 2 nilai unik pada variabel target yaitu 1 untuk jumlah orang yang memliki risiko kematian akibat penyakit jantung dan 0 merupakan jumlah orang yang tidak memiliki risiko kematian akibat penyakit jantung."
   ]
  },
  {
   "cell_type": "code",
   "execution_count": 18,
   "id": "f8744f9d",
   "metadata": {
    "scrolled": false
   },
   "outputs": [
    {
     "name": "stdout",
     "output_type": "stream",
     "text": [
      "Jumlah pasien yang memiliki risiko kematian akibat penyakit jantung: 96 (32.11%)\n",
      "Jumlah pasien yang tidak memiliki risiko kematian akibat penyakit jantung: 203 (67.89%)\n"
     ]
    },
    {
     "data": {
      "image/png": "[encoded data removed]",
      "text/plain": [
       "<Figure size 864x432 with 1 Axes>"
      ]
     },
     "metadata": {
      "needs_background": "light"
     },
     "output_type": "display_data"
    }
   ],
   "source": [
    "# Memeriksa distribusi target\n",
    "num_heart_failure = len(df)\n",
    "num_true = len(df.loc[df[\"DEATH_EVENT\"] == 1])\n",
    "num_false = len(df.loc[df[\"DEATH_EVENT\"] == 0])\n",
    "print(\"Jumlah pasien yang memiliki risiko kematian akibat penyakit jantung: {0} ({1:2.2f}%)\".format(num_true, (num_true/num_heart_failure)*100))\n",
    "print(\"Jumlah pasien yang tidak memiliki risiko kematian akibat penyakit jantung: {0} ({1:2.2f}%)\".format(num_false, (num_false/num_heart_failure)*100))\n",
    "\n",
    "plt.figure(figsize=(12, 6))\n",
    "ax = sns.countplot(x=\"DEATH_EVENT\", hue=\"DEATH_EVENT\", data=df, palette=\"YlOrRd\")"
   ]
  },
  {
   "cell_type": "markdown",
   "id": "b199ea43",
   "metadata": {},
   "source": [
    "## Distribusi umur pasien dengan risiko kematian"
   ]
  },
  {
   "cell_type": "code",
   "execution_count": 19,
   "id": "9665b4cc",
   "metadata": {},
   "outputs": [
    {
     "name": "stdout",
     "output_type": "stream",
     "text": [
      "Rata-rata usia pasien adalah 60.83\n"
     ]
    },
    {
     "data": {
      "image/png": "[encoded data removed]",
      "text/plain": [
       "<Figure size 1296x504 with 1 Axes>"
      ]
     },
     "metadata": {
      "needs_background": "light"
     },
     "output_type": "display_data"
    }
   ],
   "source": [
    "plt.figure(figsize=(18,7))\n",
    "ax = sns.countplot(x=\"age\", hue=\"DEATH_EVENT\", data=df, palette=\"YlOrRd\")\n",
    "\n",
    "mean_de = df[\"age\"].mean()\n",
    "print(\"Rata-rata usia pasien adalah {:.2f}\".format(mean_de))"
   ]
  },
  {
   "cell_type": "markdown",
   "id": "45d01738",
   "metadata": {},
   "source": [
    "Berdasarkan plot dapat kita simpulkan bahwa: \n",
    "1. Usia 60 tahun adalah usia yang memiliki risiko kematian akibat penyakit jantung tertinggi. \n",
    "2. Dapat dilihat juga bahwa umur pasien cenderung mempengaruhi ada tidaknya risiko kematian karena umur di bawah 45 tahun memiliki risiko kematian yang rendah\n",
    "3. Umur di atas 50 tahun memiliki risiko kematian yang lebih tinggi."
   ]
  },
  {
   "cell_type": "code",
   "execution_count": 20,
   "id": "f3b4064a",
   "metadata": {},
   "outputs": [
    {
     "name": "stdout",
     "output_type": "stream",
     "text": [
      "Jumlah pasien berumur di atas 50 tahun yang memiliki risiko kematian : 85\n",
      "Jumlah pasien berumur di atas 50 tahun yang tidak memiliki risiko kematian: 167\n"
     ]
    },
    {
     "data": {
      "image/png": "[encoded data removed]",
      "text/plain": [
       "<Figure size 432x288 with 1 Axes>"
      ]
     },
     "metadata": {},
     "output_type": "display_data"
    }
   ],
   "source": [
    "age_above_50_not_died = df['DEATH_EVENT'][df.age >=50][df.DEATH_EVENT == 0]\n",
    "age_above_50_died = df['DEATH_EVENT'][df.age >= 50][df.DEATH_EVENT == 1]\n",
    "\n",
    "len_died = len(age_above_50_died)\n",
    "len_not_died = len(age_above_50_not_died)\n",
    "\n",
    "arr1 = np.array([len_died, len_not_died])\n",
    "labels =['DIED','NOT DIED']\n",
    "\n",
    "print(f'Jumlah pasien berumur di atas 50 tahun yang memiliki risiko kematian : {len_died}')\n",
    "print(f'Jumlah pasien berumur di atas 50 tahun yang tidak memiliki risiko kematian: {len_not_died}')\n",
    "\n",
    "plt.pie(arr1, labels=labels, explode = [0.2, 0.0], shadow= True)\n",
    "plt.show()"
   ]
  },
  {
   "cell_type": "markdown",
   "id": "045f45a3",
   "metadata": {},
   "source": [
    "Dapat kita lihat bahwa berdasarkan *pie-chart* bahwa rasio antara pasien yang berumur di atas atau sama dengan 50 tahun yang memiliki risiko kematian dan yang tidak berisiko kematian memiliki perbandingan proporsi 1:2."
   ]
  },
  {
   "cell_type": "markdown",
   "id": "10d4f046",
   "metadata": {},
   "source": [
    "## Distribusi jenis kelamin pasien dengan risiko kematian"
   ]
  },
  {
   "cell_type": "code",
   "execution_count": 21,
   "id": "56ad5b67",
   "metadata": {
    "scrolled": false
   },
   "outputs": [
    {
     "name": "stdout",
     "output_type": "stream",
     "text": [
      "Jumlah pasien berjenis kelamin wanita: 105\n",
      "Jumlah pasien berjenis kelamin pria: 194\n"
     ]
    },
    {
     "data": {
      "text/plain": [
       "Text(0.73, -0.15, 'Pria')"
      ]
     },
     "execution_count": 21,
     "metadata": {},
     "output_type": "execute_result"
    },
    {
     "data": {
      "image/png": "[encoded data removed]",
      "text/plain": [
       "<Figure size 864x432 with 1 Axes>"
      ]
     },
     "metadata": {
      "needs_background": "light"
     },
     "output_type": "display_data"
    }
   ],
   "source": [
    "female = df['DEATH_EVENT'][df.sex == 0]\n",
    "male = df['DEATH_EVENT'][df.sex == 1]\n",
    "\n",
    "len_f = len(female)\n",
    "len_m = len(male)\n",
    "\n",
    "print(f'Jumlah pasien berjenis kelamin wanita: {len_f}')\n",
    "print(f'Jumlah pasien berjenis kelamin pria: {len_m}')\n",
    "\n",
    "plt.figure(figsize=(12, 6))\n",
    "ax = sns.countplot(x=\"sex\", hue=\"DEATH_EVENT\", data=df, palette=\"YlOrRd\")\n",
    "plt.text(0.21, -0.15, 'Wanita', color='black', transform=ax.transAxes,fontsize=15)\n",
    "plt.text(0.73, -0.15, 'Pria', color='black', transform=ax.transAxes,fontsize=15)"
   ]
  },
  {
   "cell_type": "markdown",
   "id": "a6378f32",
   "metadata": {},
   "source": [
    "Berdasarkan plot dapat kita ketahui bahwa jumlah laki-laki (1) dengan resiko kematian akibat penyakit jantung cendering lebih banyak dibandingkan dengan wanita (0)"
   ]
  },
  {
   "cell_type": "markdown",
   "id": "39dc2bd6",
   "metadata": {},
   "source": [
    "## Distribusi kolom `anemia`, `diabetes`, `high_blood_pressure`, `smoking`, dan `time` berdasarkan risiko kematian"
   ]
  },
  {
   "cell_type": "code",
   "execution_count": 22,
   "id": "74a07ca3",
   "metadata": {},
   "outputs": [
    {
     "data": {
      "text/plain": [
       "<AxesSubplot:xlabel='time', ylabel='count'>"
      ]
     },
     "execution_count": 22,
     "metadata": {},
     "output_type": "execute_result"
    },
    {
     "data": {
      "image/png": "[encoded data removed]",
      "text/plain": [
       "<Figure size 1080x1800 with 5 Axes>"
      ]
     },
     "metadata": {
      "needs_background": "light"
     },
     "output_type": "display_data"
    }
   ],
   "source": [
    "fig = plt.figure(figsize=(15,25))\n",
    "\n",
    "ax0 = fig.add_subplot(5,1,1)\n",
    "ax1 = fig.add_subplot(5,1,2)\n",
    "ax2 = fig.add_subplot(5,1,3)\n",
    "ax3 = fig.add_subplot(5,1,4)\n",
    "ax4 = fig.add_subplot(5,1,5)\n",
    "\n",
    "sns.countplot(x=\"anemia\", hue=\"DEATH_EVENT\", data=df, palette=\"YlOrRd\", ax=ax0)\n",
    "sns.countplot(x=\"diabetes\", hue=\"DEATH_EVENT\", data=df, palette=\"YlOrRd\", ax=ax1)\n",
    "sns.countplot(x=\"high_blood_pressure\", hue=\"DEATH_EVENT\", data=df, palette=\"YlOrRd\", ax=ax2)\n",
    "sns.countplot(x=\"smoking\", hue=\"DEATH_EVENT\", data=df, palette=\"YlOrRd\", ax=ax3)\n",
    "sns.countplot(x=\"time\", hue=\"DEATH_EVENT\", data=df, palette=\"YlOrRd\", ax=ax4)"
   ]
  },
  {
   "cell_type": "markdown",
   "id": "368b8db8",
   "metadata": {},
   "source": [
    "Berdasarkan plot daiatas, dapat kita ketahui bahwa \n",
    "1. Pada histogram diatas diketahui 0(kelas wanita) dan 1(kelas pria)\n",
    "2. untuk kolom anemia, diabetes, darah tinggi, dan perokok tidak menunjukkan pengaruh yang signifikan terhadap resiko kematian akibat penyakit jantung. Namun pada kolom time, menunjukkan bahwa semakin sedikit time (waktu follow-up pasien), maka risiko kematian akibat penyakit jantung semakin tinggi pula dikarenakan kurangnya kontrol terhadap kondisi pasien. "
   ]
  },
  {
   "cell_type": "markdown",
   "id": "652ef748",
   "metadata": {},
   "source": [
    "# Data Preprocessing"
   ]
  },
  {
   "cell_type": "markdown",
   "id": "94148e40",
   "metadata": {},
   "source": [
    "Proses ini dilakukan untuk penyiapan data untuk proses pelatihan model prediksi klasifikasi."
   ]
  },
  {
   "cell_type": "code",
   "execution_count": 23,
   "id": "3ed28c51",
   "metadata": {},
   "outputs": [],
   "source": [
    "data = df.copy()"
   ]
  },
  {
   "cell_type": "code",
   "execution_count": 24,
   "id": "457fb5e9",
   "metadata": {},
   "outputs": [],
   "source": [
    "#Memisahkan/memecah data\n",
    "age = data[\"age\"]\n",
    "ejection_fraction = data[\"ejection_fraction\"]\n",
    "time = data[\"time\"]"
   ]
  },
  {
   "cell_type": "markdown",
   "id": "e945dfdb",
   "metadata": {},
   "source": [
    "Visualisasi nilai statistik masing-masing kolom numerik menggunakan boxplot."
   ]
  },
  {
   "cell_type": "code",
   "execution_count": 25,
   "id": "780f56a6",
   "metadata": {},
   "outputs": [
    {
     "data": {
      "image/png": "[encoded data removed]",
      "text/plain": [
       "<Figure size 1440x1440 with 3 Axes>"
      ]
     },
     "metadata": {
      "needs_background": "light"
     },
     "output_type": "display_data"
    }
   ],
   "source": [
    "fig = plt.figure(figsize=(20,20))\n",
    "\n",
    "ax0 = fig.add_subplot(5,3,1)\n",
    "ax1 = fig.add_subplot(5,3,2)\n",
    "ax2 = fig.add_subplot(5,3,3)\n",
    "\n",
    "age.plot(kind=\"box\", ax=ax0)\n",
    "ejection_fraction.plot(kind=\"box\", ax=ax1)\n",
    "time.plot(kind=\"box\", ax=ax2)\n",
    "plt.show()"
   ]
  },
  {
   "cell_type": "markdown",
   "id": "7d8856ac",
   "metadata": {},
   "source": [
    "Berdasarkan boxplot diatas dapat kita lihat bahwa pada kolom <b>ejection_fraction</b> masih terdapat outlier pada data, maka sebelum memasuki proses selanjutnya perlu kita lakukan standarisasi data."
   ]
  },
  {
   "cell_type": "markdown",
   "id": "ca0caff5",
   "metadata": {},
   "source": [
    "## Standarisasi data"
   ]
  },
  {
   "cell_type": "markdown",
   "id": "a682c32d",
   "metadata": {},
   "source": [
    "Standarisasi data dilakukan untuk mengubah data sedemikian sehingga *mean* tiap variabel menjadi sama dengan nol, dan *standard deviation* tiap variabel adalah satu. Dengan begitu, akan didapatkan skala yang sama untuk semua variabel. Standarisasi juga dilakukan karena banyaknya *outlier* atau pecilan pada data."
   ]
  },
  {
   "cell_type": "markdown",
   "id": "446368fc",
   "metadata": {},
   "source": [
    "<b> Rumus mencari standarisasi data: (value dalam kolom tertentu - mean dalam kolom tertentu) / standar deviasi dalam kolom tertentu"
   ]
  },
  {
   "cell_type": "code",
   "execution_count": 26,
   "id": "8ce68fc0",
   "metadata": {},
   "outputs": [],
   "source": [
    "scaler = StandardScaler()"
   ]
  },
  {
   "cell_type": "code",
   "execution_count": 27,
   "id": "4772323f",
   "metadata": {},
   "outputs": [
    {
     "data": {
      "text/html": [
       "<div>\n",
       "<style scoped>\n",
       "    .dataframe tbody tr th:only-of-type {\n",
       "        vertical-align: middle;\n",
       "    }\n",
       "\n",
       "    .dataframe tbody tr th {\n",
       "        vertical-align: top;\n",
       "    }\n",
       "\n",
       "    .dataframe thead th {\n",
       "        text-align: right;\n",
       "    }\n",
       "</style>\n",
       "<table border=\"1\" class=\"dataframe\">\n",
       "  <thead>\n",
       "    <tr style=\"text-align: right;\">\n",
       "      <th></th>\n",
       "      <th>age</th>\n",
       "      <th>anemia</th>\n",
       "      <th>diabetes</th>\n",
       "      <th>ejection_fraction</th>\n",
       "      <th>high_blood_pressure</th>\n",
       "      <th>serum_sodium</th>\n",
       "      <th>sex</th>\n",
       "      <th>smoking</th>\n",
       "      <th>time</th>\n",
       "    </tr>\n",
       "  </thead>\n",
       "  <tbody>\n",
       "    <tr>\n",
       "      <th>0</th>\n",
       "      <td>1.192945</td>\n",
       "      <td>-0.871105</td>\n",
       "      <td>-0.847579</td>\n",
       "      <td>-1.530560</td>\n",
       "      <td>1.359272</td>\n",
       "      <td>-1.504036</td>\n",
       "      <td>0.735688</td>\n",
       "      <td>-0.687682</td>\n",
       "      <td>-1.629502</td>\n",
       "    </tr>\n",
       "    <tr>\n",
       "      <th>1</th>\n",
       "      <td>-0.491279</td>\n",
       "      <td>-0.871105</td>\n",
       "      <td>-0.847579</td>\n",
       "      <td>-0.007077</td>\n",
       "      <td>-0.735688</td>\n",
       "      <td>-0.141976</td>\n",
       "      <td>0.735688</td>\n",
       "      <td>-0.687682</td>\n",
       "      <td>-1.603691</td>\n",
       "    </tr>\n",
       "    <tr>\n",
       "      <th>2</th>\n",
       "      <td>0.350833</td>\n",
       "      <td>-0.871105</td>\n",
       "      <td>-0.847579</td>\n",
       "      <td>-1.530560</td>\n",
       "      <td>-0.735688</td>\n",
       "      <td>-1.731046</td>\n",
       "      <td>0.735688</td>\n",
       "      <td>1.454161</td>\n",
       "      <td>-1.590785</td>\n",
       "    </tr>\n",
       "    <tr>\n",
       "      <th>3</th>\n",
       "      <td>-0.912335</td>\n",
       "      <td>1.147968</td>\n",
       "      <td>-0.847579</td>\n",
       "      <td>-1.530560</td>\n",
       "      <td>-0.735688</td>\n",
       "      <td>0.085034</td>\n",
       "      <td>0.735688</td>\n",
       "      <td>-0.687682</td>\n",
       "      <td>-1.590785</td>\n",
       "    </tr>\n",
       "    <tr>\n",
       "      <th>4</th>\n",
       "      <td>0.350833</td>\n",
       "      <td>1.147968</td>\n",
       "      <td>1.179830</td>\n",
       "      <td>-1.530560</td>\n",
       "      <td>-0.735688</td>\n",
       "      <td>-4.682176</td>\n",
       "      <td>-1.359272</td>\n",
       "      <td>-0.687682</td>\n",
       "      <td>-1.577879</td>\n",
       "    </tr>\n",
       "  </tbody>\n",
       "</table>\n",
       "</div>"
      ],
      "text/plain": [
       "        age    anemia  diabetes  ejection_fraction  high_blood_pressure  \\\n",
       "0  1.192945 -0.871105 -0.847579          -1.530560             1.359272   \n",
       "1 -0.491279 -0.871105 -0.847579          -0.007077            -0.735688   \n",
       "2  0.350833 -0.871105 -0.847579          -1.530560            -0.735688   \n",
       "3 -0.912335  1.147968 -0.847579          -1.530560            -0.735688   \n",
       "4  0.350833  1.147968  1.179830          -1.530560            -0.735688   \n",
       "\n",
       "   serum_sodium       sex   smoking      time  \n",
       "0     -1.504036  0.735688 -0.687682 -1.629502  \n",
       "1     -0.141976  0.735688 -0.687682 -1.603691  \n",
       "2     -1.731046  0.735688  1.454161 -1.590785  \n",
       "3      0.085034  0.735688 -0.687682 -1.590785  \n",
       "4     -4.682176 -1.359272 -0.687682 -1.577879  "
      ]
     },
     "execution_count": 27,
     "metadata": {},
     "output_type": "execute_result"
    }
   ],
   "source": [
    "scaler.fit(data.drop('DEATH_EVENT',axis = 1))\n",
    "scaled_features = scaler.transform(data.drop('DEATH_EVENT',axis = 1))\n",
    "df_feat = pd.DataFrame(scaled_features,columns = df.columns[:-1])\n",
    "df_feat.head()"
   ]
  },
  {
   "cell_type": "markdown",
   "id": "004901a3",
   "metadata": {},
   "source": [
    "## Splitting dataset"
   ]
  },
  {
   "cell_type": "markdown",
   "id": "1789a8c7",
   "metadata": {},
   "source": [
    "Membagi data *training* dan *testing* dengan rasio 80:20"
   ]
  },
  {
   "cell_type": "code",
   "execution_count": 28,
   "id": "1f85a1f9",
   "metadata": {},
   "outputs": [],
   "source": [
    "X = df_feat\n",
    "y = data[\"DEATH_EVENT\"]"
   ]
  },
  {
   "cell_type": "code",
   "execution_count": 29,
   "id": "3efce128",
   "metadata": {},
   "outputs": [],
   "source": [
    "X_train, X_test, y_train, y_test = train_test_split(X, y, test_size=0.3, random_state=0)"
   ]
  },
  {
   "cell_type": "code",
   "execution_count": 30,
   "id": "622426a2",
   "metadata": {},
   "outputs": [
    {
     "name": "stdout",
     "output_type": "stream",
     "text": [
      "Training set sebesar 69.90%\n",
      "Test set sebesar 30.10%\n"
     ]
    }
   ],
   "source": [
    "print(\"Training set sebesar {0:0.2f}%\".format(len(X_train)/len(df.index)*100))\n",
    "print(\"Test set sebesar {0:0.2f}%\".format(len(X_test)/len(df.index)*100))"
   ]
  },
  {
   "cell_type": "code",
   "execution_count": 31,
   "id": "77dd48bf",
   "metadata": {},
   "outputs": [
    {
     "name": "stdout",
     "output_type": "stream",
     "text": [
      "Jumlah training set: 209\n",
      "Jumlah testing set: 90\n"
     ]
    }
   ],
   "source": [
    "print('Jumlah training set:', len(X_train))\n",
    "print('Jumlah testing set:', len(X_test))"
   ]
  },
  {
   "cell_type": "code",
   "execution_count": 32,
   "id": "8d08eaf1",
   "metadata": {},
   "outputs": [
    {
     "name": "stdout",
     "output_type": "stream",
     "text": [
      "Jumlah pasien berisiko kematian akibat penyakit jantung: 96 (32.11%)\n",
      "Jumlah pasien yang tidak berisiko kematian akibat penyakit Jantung: 203 (67.89%)\n",
      "\n",
      "Training True: 68 (32.54%)\n",
      "Training False: 141 (67.46%)\n",
      "\n",
      "Testing True: 28 (31.11%)\n",
      "Testing False: 62 (68.89%)\n"
     ]
    }
   ],
   "source": [
    "print(\"Jumlah pasien berisiko kematian akibat penyakit jantung: {0} ({1:2.2f}%)\".format(len(df.loc[df[\"DEATH_EVENT\"] == 1]), (len(df.loc[df[\"DEATH_EVENT\"]==1])/len(df.index))*100.0))\n",
    "print(\"Jumlah pasien yang tidak berisiko kematian akibat penyakit Jantung: {0} ({1:2.2f}%)\\n\".format(len(df.loc[df[\"DEATH_EVENT\"] == 0]), (len(df.loc[df[\"DEATH_EVENT\"] == 0])/len(df.index))*100.0))\n",
    "\n",
    "print(\"Training True: {0} ({1:2.2f}%)\".format(len(y_train[y_train[:] == 1]), (len(y_train[y_train[:] == 1])/len(y_train)*100.0)))\n",
    "print(\"Training False: {0} ({1:2.2f}%)\\n\".format(len(y_train[y_train[:] == 0]), (len(y_train[y_train[:] == 0])/len(y_train)*100.0)))\n",
    "\n",
    "print(\"Testing True: {0} ({1:2.2f}%)\".format(len(y_test[y_test[:] == 1]), (len(y_test[y_test[:] == 1])/len(y_test)*100.0)))\n",
    "print(\"Testing False: {0} ({1:2.2f}%)\".format(len(y_test[y_test[:] == 0]), (len(y_test[y_test[:] == 0])/len(y_test)*100.0)))"
   ]
  },
  {
   "cell_type": "markdown",
   "id": "4ec5bb04",
   "metadata": {},
   "source": [
    "# Pendefinisian Model"
   ]
  },
  {
   "cell_type": "markdown",
   "id": "c6aae5de",
   "metadata": {},
   "source": [
    "## Logistic Regression"
   ]
  },
  {
   "cell_type": "code",
   "execution_count": 33,
   "id": "866fc1aa",
   "metadata": {},
   "outputs": [
    {
     "data": {
      "text/html": [
       "<style>#sk-container-id-1 {color: black;background-color: white;}#sk-container-id-1 pre{padding: 0;}#sk-container-id-1 div.sk-toggleable {background-color: white;}#sk-container-id-1 label.sk-toggleable__label {cursor: pointer;display: block;width: 100%;margin-bottom: 0;padding: 0.3em;box-sizing: border-box;text-align: center;}#sk-container-id-1 label.sk-toggleable__label-arrow:before {content: \"▸\";float: left;margin-right: 0.25em;color: #696969;}#sk-container-id-1 label.sk-toggleable__label-arrow:hover:before {color: black;}#sk-container-id-1 div.sk-estimator:hover label.sk-toggleable__label-arrow:before {color: black;}#sk-container-id-1 div.sk-toggleable__content {max-height: 0;max-width: 0;overflow: hidden;text-align: left;background-color: #f0f8ff;}#sk-container-id-1 div.sk-toggleable__content pre {margin: 0.2em;color: black;border-radius: 0.25em;background-color: #f0f8ff;}#sk-container-id-1 input.sk-toggleable__control:checked~div.sk-toggleable__content {max-height: 200px;max-width: 100%;overflow: auto;}#sk-container-id-1 input.sk-toggleable__control:checked~label.sk-toggleable__label-arrow:before {content: \"▾\";}#sk-container-id-1 div.sk-estimator input.sk-toggleable__control:checked~label.sk-toggleable__label {background-color: #d4ebff;}#sk-container-id-1 div.sk-label input.sk-toggleable__control:checked~label.sk-toggleable__label {background-color: #d4ebff;}#sk-container-id-1 input.sk-hidden--visually {border: 0;clip: rect(1px 1px 1px 1px);clip: rect(1px, 1px, 1px, 1px);height: 1px;margin: -1px;overflow: hidden;padding: 0;position: absolute;width: 1px;}#sk-container-id-1 div.sk-estimator {font-family: monospace;background-color: #f0f8ff;border: 1px dotted black;border-radius: 0.25em;box-sizing: border-box;margin-bottom: 0.5em;}#sk-container-id-1 div.sk-estimator:hover {background-color: #d4ebff;}#sk-container-id-1 div.sk-parallel-item::after {content: \"\";width: 100%;border-bottom: 1px solid gray;flex-grow: 1;}#sk-container-id-1 div.sk-label:hover label.sk-toggleable__label {background-color: #d4ebff;}#sk-container-id-1 div.sk-serial::before {content: \"\";position: absolute;border-left: 1px solid gray;box-sizing: border-box;top: 0;bottom: 0;left: 50%;z-index: 0;}#sk-container-id-1 div.sk-serial {display: flex;flex-direction: column;align-items: center;background-color: white;padding-right: 0.2em;padding-left: 0.2em;position: relative;}#sk-container-id-1 div.sk-item {position: relative;z-index: 1;}#sk-container-id-1 div.sk-parallel {display: flex;align-items: stretch;justify-content: center;background-color: white;position: relative;}#sk-container-id-1 div.sk-item::before, #sk-container-id-1 div.sk-parallel-item::before {content: \"\";position: absolute;border-left: 1px solid gray;box-sizing: border-box;top: 0;bottom: 0;left: 50%;z-index: -1;}#sk-container-id-1 div.sk-parallel-item {display: flex;flex-direction: column;z-index: 1;position: relative;background-color: white;}#sk-container-id-1 div.sk-parallel-item:first-child::after {align-self: flex-end;width: 50%;}#sk-container-id-1 div.sk-parallel-item:last-child::after {align-self: flex-start;width: 50%;}#sk-container-id-1 div.sk-parallel-item:only-child::after {width: 0;}#sk-container-id-1 div.sk-dashed-wrapped {border: 1px dashed gray;margin: 0 0.4em 0.5em 0.4em;box-sizing: border-box;padding-bottom: 0.4em;background-color: white;}#sk-container-id-1 div.sk-label label {font-family: monospace;font-weight: bold;display: inline-block;line-height: 1.2em;}#sk-container-id-1 div.sk-label-container {text-align: center;}#sk-container-id-1 div.sk-container {/* jupyter's `normalize.less` sets `[hidden] { display: none; }` but bootstrap.min.css set `[hidden] { display: none !important; }` so we also need the `!important` here to be able to override the default hidden behavior on the sphinx rendered scikit-learn.org. See: https://github.com/scikit-learn/scikit-learn/issues/21755 */display: inline-block !important;position: relative;}#sk-container-id-1 div.sk-text-repr-fallback {display: none;}</style><div id=\"sk-container-id-1\" class=\"sk-top-container\"><div class=\"sk-text-repr-fallback\"><pre>LogisticRegression()</pre><b>In a Jupyter environment, please rerun this cell to show the HTML representation or trust the notebook. <br />On GitHub, the HTML representation is unable to render, please try loading this page with nbviewer.org.</b></div><div class=\"sk-container\" hidden><div class=\"sk-item\"><div class=\"sk-estimator sk-toggleable\"><input class=\"sk-toggleable__control sk-hidden--visually\" id=\"sk-estimator-id-1\" type=\"checkbox\" checked><label for=\"sk-estimator-id-1\" class=\"sk-toggleable__label sk-toggleable__label-arrow\">LogisticRegression</label><div class=\"sk-toggleable__content\"><pre>LogisticRegression()</pre></div></div></div></div></div>"
      ],
      "text/plain": [
       "LogisticRegression()"
      ]
     },
     "execution_count": 33,
     "metadata": {},
     "output_type": "execute_result"
    }
   ],
   "source": [
    "model_lr = LogisticRegression()\n",
    "model_lr"
   ]
  },
  {
   "cell_type": "markdown",
   "id": "bed29e2e",
   "metadata": {},
   "source": [
    "## K-Nearest Neighbors"
   ]
  },
  {
   "cell_type": "code",
   "execution_count": 34,
   "id": "e92d1de1",
   "metadata": {},
   "outputs": [],
   "source": [
    "model_knn = KNeighborsClassifier()"
   ]
  },
  {
   "cell_type": "markdown",
   "id": "ef186b3f",
   "metadata": {},
   "source": [
    "## Support Vector Machine"
   ]
  },
  {
   "cell_type": "code",
   "execution_count": 35,
   "id": "d87acbe9",
   "metadata": {},
   "outputs": [
    {
     "data": {
      "text/html": [
       "<style>#sk-container-id-2 {color: black;background-color: white;}#sk-container-id-2 pre{padding: 0;}#sk-container-id-2 div.sk-toggleable {background-color: white;}#sk-container-id-2 label.sk-toggleable__label {cursor: pointer;display: block;width: 100%;margin-bottom: 0;padding: 0.3em;box-sizing: border-box;text-align: center;}#sk-container-id-2 label.sk-toggleable__label-arrow:before {content: \"▸\";float: left;margin-right: 0.25em;color: #696969;}#sk-container-id-2 label.sk-toggleable__label-arrow:hover:before {color: black;}#sk-container-id-2 div.sk-estimator:hover label.sk-toggleable__label-arrow:before {color: black;}#sk-container-id-2 div.sk-toggleable__content {max-height: 0;max-width: 0;overflow: hidden;text-align: left;background-color: #f0f8ff;}#sk-container-id-2 div.sk-toggleable__content pre {margin: 0.2em;color: black;border-radius: 0.25em;background-color: #f0f8ff;}#sk-container-id-2 input.sk-toggleable__control:checked~div.sk-toggleable__content {max-height: 200px;max-width: 100%;overflow: auto;}#sk-container-id-2 input.sk-toggleable__control:checked~label.sk-toggleable__label-arrow:before {content: \"▾\";}#sk-container-id-2 div.sk-estimator input.sk-toggleable__control:checked~label.sk-toggleable__label {background-color: #d4ebff;}#sk-container-id-2 div.sk-label input.sk-toggleable__control:checked~label.sk-toggleable__label {background-color: #d4ebff;}#sk-container-id-2 input.sk-hidden--visually {border: 0;clip: rect(1px 1px 1px 1px);clip: rect(1px, 1px, 1px, 1px);height: 1px;margin: -1px;overflow: hidden;padding: 0;position: absolute;width: 1px;}#sk-container-id-2 div.sk-estimator {font-family: monospace;background-color: #f0f8ff;border: 1px dotted black;border-radius: 0.25em;box-sizing: border-box;margin-bottom: 0.5em;}#sk-container-id-2 div.sk-estimator:hover {background-color: #d4ebff;}#sk-container-id-2 div.sk-parallel-item::after {content: \"\";width: 100%;border-bottom: 1px solid gray;flex-grow: 1;}#sk-container-id-2 div.sk-label:hover label.sk-toggleable__label {background-color: #d4ebff;}#sk-container-id-2 div.sk-serial::before {content: \"\";position: absolute;border-left: 1px solid gray;box-sizing: border-box;top: 0;bottom: 0;left: 50%;z-index: 0;}#sk-container-id-2 div.sk-serial {display: flex;flex-direction: column;align-items: center;background-color: white;padding-right: 0.2em;padding-left: 0.2em;position: relative;}#sk-container-id-2 div.sk-item {position: relative;z-index: 1;}#sk-container-id-2 div.sk-parallel {display: flex;align-items: stretch;justify-content: center;background-color: white;position: relative;}#sk-container-id-2 div.sk-item::before, #sk-container-id-2 div.sk-parallel-item::before {content: \"\";position: absolute;border-left: 1px solid gray;box-sizing: border-box;top: 0;bottom: 0;left: 50%;z-index: -1;}#sk-container-id-2 div.sk-parallel-item {display: flex;flex-direction: column;z-index: 1;position: relative;background-color: white;}#sk-container-id-2 div.sk-parallel-item:first-child::after {align-self: flex-end;width: 50%;}#sk-container-id-2 div.sk-parallel-item:last-child::after {align-self: flex-start;width: 50%;}#sk-container-id-2 div.sk-parallel-item:only-child::after {width: 0;}#sk-container-id-2 div.sk-dashed-wrapped {border: 1px dashed gray;margin: 0 0.4em 0.5em 0.4em;box-sizing: border-box;padding-bottom: 0.4em;background-color: white;}#sk-container-id-2 div.sk-label label {font-family: monospace;font-weight: bold;display: inline-block;line-height: 1.2em;}#sk-container-id-2 div.sk-label-container {text-align: center;}#sk-container-id-2 div.sk-container {/* jupyter's `normalize.less` sets `[hidden] { display: none; }` but bootstrap.min.css set `[hidden] { display: none !important; }` so we also need the `!important` here to be able to override the default hidden behavior on the sphinx rendered scikit-learn.org. See: https://github.com/scikit-learn/scikit-learn/issues/21755 */display: inline-block !important;position: relative;}#sk-container-id-2 div.sk-text-repr-fallback {display: none;}</style><div id=\"sk-container-id-2\" class=\"sk-top-container\"><div class=\"sk-text-repr-fallback\"><pre>SVC()</pre><b>In a Jupyter environment, please rerun this cell to show the HTML representation or trust the notebook. <br />On GitHub, the HTML representation is unable to render, please try loading this page with nbviewer.org.</b></div><div class=\"sk-container\" hidden><div class=\"sk-item\"><div class=\"sk-estimator sk-toggleable\"><input class=\"sk-toggleable__control sk-hidden--visually\" id=\"sk-estimator-id-2\" type=\"checkbox\" checked><label for=\"sk-estimator-id-2\" class=\"sk-toggleable__label sk-toggleable__label-arrow\">SVC</label><div class=\"sk-toggleable__content\"><pre>SVC()</pre></div></div></div></div></div>"
      ],
      "text/plain": [
       "SVC()"
      ]
     },
     "execution_count": 35,
     "metadata": {},
     "output_type": "execute_result"
    }
   ],
   "source": [
    "model_svm = SVC()\n",
    "model_svm"
   ]
  },
  {
   "cell_type": "markdown",
   "id": "9e195a59",
   "metadata": {},
   "source": [
    "## Decision Tree"
   ]
  },
  {
   "cell_type": "code",
   "execution_count": 36,
   "id": "e06b1705",
   "metadata": {},
   "outputs": [
    {
     "data": {
      "text/html": [
       "<style>#sk-container-id-3 {color: black;background-color: white;}#sk-container-id-3 pre{padding: 0;}#sk-container-id-3 div.sk-toggleable {background-color: white;}#sk-container-id-3 label.sk-toggleable__label {cursor: pointer;display: block;width: 100%;margin-bottom: 0;padding: 0.3em;box-sizing: border-box;text-align: center;}#sk-container-id-3 label.sk-toggleable__label-arrow:before {content: \"▸\";float: left;margin-right: 0.25em;color: #696969;}#sk-container-id-3 label.sk-toggleable__label-arrow:hover:before {color: black;}#sk-container-id-3 div.sk-estimator:hover label.sk-toggleable__label-arrow:before {color: black;}#sk-container-id-3 div.sk-toggleable__content {max-height: 0;max-width: 0;overflow: hidden;text-align: left;background-color: #f0f8ff;}#sk-container-id-3 div.sk-toggleable__content pre {margin: 0.2em;color: black;border-radius: 0.25em;background-color: #f0f8ff;}#sk-container-id-3 input.sk-toggleable__control:checked~div.sk-toggleable__content {max-height: 200px;max-width: 100%;overflow: auto;}#sk-container-id-3 input.sk-toggleable__control:checked~label.sk-toggleable__label-arrow:before {content: \"▾\";}#sk-container-id-3 div.sk-estimator input.sk-toggleable__control:checked~label.sk-toggleable__label {background-color: #d4ebff;}#sk-container-id-3 div.sk-label input.sk-toggleable__control:checked~label.sk-toggleable__label {background-color: #d4ebff;}#sk-container-id-3 input.sk-hidden--visually {border: 0;clip: rect(1px 1px 1px 1px);clip: rect(1px, 1px, 1px, 1px);height: 1px;margin: -1px;overflow: hidden;padding: 0;position: absolute;width: 1px;}#sk-container-id-3 div.sk-estimator {font-family: monospace;background-color: #f0f8ff;border: 1px dotted black;border-radius: 0.25em;box-sizing: border-box;margin-bottom: 0.5em;}#sk-container-id-3 div.sk-estimator:hover {background-color: #d4ebff;}#sk-container-id-3 div.sk-parallel-item::after {content: \"\";width: 100%;border-bottom: 1px solid gray;flex-grow: 1;}#sk-container-id-3 div.sk-label:hover label.sk-toggleable__label {background-color: #d4ebff;}#sk-container-id-3 div.sk-serial::before {content: \"\";position: absolute;border-left: 1px solid gray;box-sizing: border-box;top: 0;bottom: 0;left: 50%;z-index: 0;}#sk-container-id-3 div.sk-serial {display: flex;flex-direction: column;align-items: center;background-color: white;padding-right: 0.2em;padding-left: 0.2em;position: relative;}#sk-container-id-3 div.sk-item {position: relative;z-index: 1;}#sk-container-id-3 div.sk-parallel {display: flex;align-items: stretch;justify-content: center;background-color: white;position: relative;}#sk-container-id-3 div.sk-item::before, #sk-container-id-3 div.sk-parallel-item::before {content: \"\";position: absolute;border-left: 1px solid gray;box-sizing: border-box;top: 0;bottom: 0;left: 50%;z-index: -1;}#sk-container-id-3 div.sk-parallel-item {display: flex;flex-direction: column;z-index: 1;position: relative;background-color: white;}#sk-container-id-3 div.sk-parallel-item:first-child::after {align-self: flex-end;width: 50%;}#sk-container-id-3 div.sk-parallel-item:last-child::after {align-self: flex-start;width: 50%;}#sk-container-id-3 div.sk-parallel-item:only-child::after {width: 0;}#sk-container-id-3 div.sk-dashed-wrapped {border: 1px dashed gray;margin: 0 0.4em 0.5em 0.4em;box-sizing: border-box;padding-bottom: 0.4em;background-color: white;}#sk-container-id-3 div.sk-label label {font-family: monospace;font-weight: bold;display: inline-block;line-height: 1.2em;}#sk-container-id-3 div.sk-label-container {text-align: center;}#sk-container-id-3 div.sk-container {/* jupyter's `normalize.less` sets `[hidden] { display: none; }` but bootstrap.min.css set `[hidden] { display: none !important; }` so we also need the `!important` here to be able to override the default hidden behavior on the sphinx rendered scikit-learn.org. See: https://github.com/scikit-learn/scikit-learn/issues/21755 */display: inline-block !important;position: relative;}#sk-container-id-3 div.sk-text-repr-fallback {display: none;}</style><div id=\"sk-container-id-3\" class=\"sk-top-container\"><div class=\"sk-text-repr-fallback\"><pre>DecisionTreeClassifier()</pre><b>In a Jupyter environment, please rerun this cell to show the HTML representation or trust the notebook. <br />On GitHub, the HTML representation is unable to render, please try loading this page with nbviewer.org.</b></div><div class=\"sk-container\" hidden><div class=\"sk-item\"><div class=\"sk-estimator sk-toggleable\"><input class=\"sk-toggleable__control sk-hidden--visually\" id=\"sk-estimator-id-3\" type=\"checkbox\" checked><label for=\"sk-estimator-id-3\" class=\"sk-toggleable__label sk-toggleable__label-arrow\">DecisionTreeClassifier</label><div class=\"sk-toggleable__content\"><pre>DecisionTreeClassifier()</pre></div></div></div></div></div>"
      ],
      "text/plain": [
       "DecisionTreeClassifier()"
      ]
     },
     "execution_count": 36,
     "metadata": {},
     "output_type": "execute_result"
    }
   ],
   "source": [
    "model_tree = DecisionTreeClassifier()\n",
    "model_tree"
   ]
  },
  {
   "cell_type": "markdown",
   "id": "c3170f6c",
   "metadata": {},
   "source": [
    "## Random Forest"
   ]
  },
  {
   "cell_type": "code",
   "execution_count": 37,
   "id": "5e3046b3",
   "metadata": {},
   "outputs": [
    {
     "data": {
      "text/html": [
       "<style>#sk-container-id-4 {color: black;background-color: white;}#sk-container-id-4 pre{padding: 0;}#sk-container-id-4 div.sk-toggleable {background-color: white;}#sk-container-id-4 label.sk-toggleable__label {cursor: pointer;display: block;width: 100%;margin-bottom: 0;padding: 0.3em;box-sizing: border-box;text-align: center;}#sk-container-id-4 label.sk-toggleable__label-arrow:before {content: \"▸\";float: left;margin-right: 0.25em;color: #696969;}#sk-container-id-4 label.sk-toggleable__label-arrow:hover:before {color: black;}#sk-container-id-4 div.sk-estimator:hover label.sk-toggleable__label-arrow:before {color: black;}#sk-container-id-4 div.sk-toggleable__content {max-height: 0;max-width: 0;overflow: hidden;text-align: left;background-color: #f0f8ff;}#sk-container-id-4 div.sk-toggleable__content pre {margin: 0.2em;color: black;border-radius: 0.25em;background-color: #f0f8ff;}#sk-container-id-4 input.sk-toggleable__control:checked~div.sk-toggleable__content {max-height: 200px;max-width: 100%;overflow: auto;}#sk-container-id-4 input.sk-toggleable__control:checked~label.sk-toggleable__label-arrow:before {content: \"▾\";}#sk-container-id-4 div.sk-estimator input.sk-toggleable__control:checked~label.sk-toggleable__label {background-color: #d4ebff;}#sk-container-id-4 div.sk-label input.sk-toggleable__control:checked~label.sk-toggleable__label {background-color: #d4ebff;}#sk-container-id-4 input.sk-hidden--visually {border: 0;clip: rect(1px 1px 1px 1px);clip: rect(1px, 1px, 1px, 1px);height: 1px;margin: -1px;overflow: hidden;padding: 0;position: absolute;width: 1px;}#sk-container-id-4 div.sk-estimator {font-family: monospace;background-color: #f0f8ff;border: 1px dotted black;border-radius: 0.25em;box-sizing: border-box;margin-bottom: 0.5em;}#sk-container-id-4 div.sk-estimator:hover {background-color: #d4ebff;}#sk-container-id-4 div.sk-parallel-item::after {content: \"\";width: 100%;border-bottom: 1px solid gray;flex-grow: 1;}#sk-container-id-4 div.sk-label:hover label.sk-toggleable__label {background-color: #d4ebff;}#sk-container-id-4 div.sk-serial::before {content: \"\";position: absolute;border-left: 1px solid gray;box-sizing: border-box;top: 0;bottom: 0;left: 50%;z-index: 0;}#sk-container-id-4 div.sk-serial {display: flex;flex-direction: column;align-items: center;background-color: white;padding-right: 0.2em;padding-left: 0.2em;position: relative;}#sk-container-id-4 div.sk-item {position: relative;z-index: 1;}#sk-container-id-4 div.sk-parallel {display: flex;align-items: stretch;justify-content: center;background-color: white;position: relative;}#sk-container-id-4 div.sk-item::before, #sk-container-id-4 div.sk-parallel-item::before {content: \"\";position: absolute;border-left: 1px solid gray;box-sizing: border-box;top: 0;bottom: 0;left: 50%;z-index: -1;}#sk-container-id-4 div.sk-parallel-item {display: flex;flex-direction: column;z-index: 1;position: relative;background-color: white;}#sk-container-id-4 div.sk-parallel-item:first-child::after {align-self: flex-end;width: 50%;}#sk-container-id-4 div.sk-parallel-item:last-child::after {align-self: flex-start;width: 50%;}#sk-container-id-4 div.sk-parallel-item:only-child::after {width: 0;}#sk-container-id-4 div.sk-dashed-wrapped {border: 1px dashed gray;margin: 0 0.4em 0.5em 0.4em;box-sizing: border-box;padding-bottom: 0.4em;background-color: white;}#sk-container-id-4 div.sk-label label {font-family: monospace;font-weight: bold;display: inline-block;line-height: 1.2em;}#sk-container-id-4 div.sk-label-container {text-align: center;}#sk-container-id-4 div.sk-container {/* jupyter's `normalize.less` sets `[hidden] { display: none; }` but bootstrap.min.css set `[hidden] { display: none !important; }` so we also need the `!important` here to be able to override the default hidden behavior on the sphinx rendered scikit-learn.org. See: https://github.com/scikit-learn/scikit-learn/issues/21755 */display: inline-block !important;position: relative;}#sk-container-id-4 div.sk-text-repr-fallback {display: none;}</style><div id=\"sk-container-id-4\" class=\"sk-top-container\"><div class=\"sk-text-repr-fallback\"><pre>RandomForestClassifier(n_estimators=200)</pre><b>In a Jupyter environment, please rerun this cell to show the HTML representation or trust the notebook. <br />On GitHub, the HTML representation is unable to render, please try loading this page with nbviewer.org.</b></div><div class=\"sk-container\" hidden><div class=\"sk-item\"><div class=\"sk-estimator sk-toggleable\"><input class=\"sk-toggleable__control sk-hidden--visually\" id=\"sk-estimator-id-4\" type=\"checkbox\" checked><label for=\"sk-estimator-id-4\" class=\"sk-toggleable__label sk-toggleable__label-arrow\">RandomForestClassifier</label><div class=\"sk-toggleable__content\"><pre>RandomForestClassifier(n_estimators=200)</pre></div></div></div></div></div>"
      ],
      "text/plain": [
       "RandomForestClassifier(n_estimators=200)"
      ]
     },
     "execution_count": 37,
     "metadata": {},
     "output_type": "execute_result"
    }
   ],
   "source": [
    "model_rf = RandomForestClassifier(n_estimators=200)\n",
    "model_rf"
   ]
  },
  {
   "cell_type": "markdown",
   "id": "22acac91",
   "metadata": {},
   "source": [
    "## Naive Bayes"
   ]
  },
  {
   "cell_type": "code",
   "execution_count": 38,
   "id": "6cb88164",
   "metadata": {},
   "outputs": [
    {
     "data": {
      "text/html": [
       "<style>#sk-container-id-5 {color: black;background-color: white;}#sk-container-id-5 pre{padding: 0;}#sk-container-id-5 div.sk-toggleable {background-color: white;}#sk-container-id-5 label.sk-toggleable__label {cursor: pointer;display: block;width: 100%;margin-bottom: 0;padding: 0.3em;box-sizing: border-box;text-align: center;}#sk-container-id-5 label.sk-toggleable__label-arrow:before {content: \"▸\";float: left;margin-right: 0.25em;color: #696969;}#sk-container-id-5 label.sk-toggleable__label-arrow:hover:before {color: black;}#sk-container-id-5 div.sk-estimator:hover label.sk-toggleable__label-arrow:before {color: black;}#sk-container-id-5 div.sk-toggleable__content {max-height: 0;max-width: 0;overflow: hidden;text-align: left;background-color: #f0f8ff;}#sk-container-id-5 div.sk-toggleable__content pre {margin: 0.2em;color: black;border-radius: 0.25em;background-color: #f0f8ff;}#sk-container-id-5 input.sk-toggleable__control:checked~div.sk-toggleable__content {max-height: 200px;max-width: 100%;overflow: auto;}#sk-container-id-5 input.sk-toggleable__control:checked~label.sk-toggleable__label-arrow:before {content: \"▾\";}#sk-container-id-5 div.sk-estimator input.sk-toggleable__control:checked~label.sk-toggleable__label {background-color: #d4ebff;}#sk-container-id-5 div.sk-label input.sk-toggleable__control:checked~label.sk-toggleable__label {background-color: #d4ebff;}#sk-container-id-5 input.sk-hidden--visually {border: 0;clip: rect(1px 1px 1px 1px);clip: rect(1px, 1px, 1px, 1px);height: 1px;margin: -1px;overflow: hidden;padding: 0;position: absolute;width: 1px;}#sk-container-id-5 div.sk-estimator {font-family: monospace;background-color: #f0f8ff;border: 1px dotted black;border-radius: 0.25em;box-sizing: border-box;margin-bottom: 0.5em;}#sk-container-id-5 div.sk-estimator:hover {background-color: #d4ebff;}#sk-container-id-5 div.sk-parallel-item::after {content: \"\";width: 100%;border-bottom: 1px solid gray;flex-grow: 1;}#sk-container-id-5 div.sk-label:hover label.sk-toggleable__label {background-color: #d4ebff;}#sk-container-id-5 div.sk-serial::before {content: \"\";position: absolute;border-left: 1px solid gray;box-sizing: border-box;top: 0;bottom: 0;left: 50%;z-index: 0;}#sk-container-id-5 div.sk-serial {display: flex;flex-direction: column;align-items: center;background-color: white;padding-right: 0.2em;padding-left: 0.2em;position: relative;}#sk-container-id-5 div.sk-item {position: relative;z-index: 1;}#sk-container-id-5 div.sk-parallel {display: flex;align-items: stretch;justify-content: center;background-color: white;position: relative;}#sk-container-id-5 div.sk-item::before, #sk-container-id-5 div.sk-parallel-item::before {content: \"\";position: absolute;border-left: 1px solid gray;box-sizing: border-box;top: 0;bottom: 0;left: 50%;z-index: -1;}#sk-container-id-5 div.sk-parallel-item {display: flex;flex-direction: column;z-index: 1;position: relative;background-color: white;}#sk-container-id-5 div.sk-parallel-item:first-child::after {align-self: flex-end;width: 50%;}#sk-container-id-5 div.sk-parallel-item:last-child::after {align-self: flex-start;width: 50%;}#sk-container-id-5 div.sk-parallel-item:only-child::after {width: 0;}#sk-container-id-5 div.sk-dashed-wrapped {border: 1px dashed gray;margin: 0 0.4em 0.5em 0.4em;box-sizing: border-box;padding-bottom: 0.4em;background-color: white;}#sk-container-id-5 div.sk-label label {font-family: monospace;font-weight: bold;display: inline-block;line-height: 1.2em;}#sk-container-id-5 div.sk-label-container {text-align: center;}#sk-container-id-5 div.sk-container {/* jupyter's `normalize.less` sets `[hidden] { display: none; }` but bootstrap.min.css set `[hidden] { display: none !important; }` so we also need the `!important` here to be able to override the default hidden behavior on the sphinx rendered scikit-learn.org. See: https://github.com/scikit-learn/scikit-learn/issues/21755 */display: inline-block !important;position: relative;}#sk-container-id-5 div.sk-text-repr-fallback {display: none;}</style><div id=\"sk-container-id-5\" class=\"sk-top-container\"><div class=\"sk-text-repr-fallback\"><pre>GaussianNB()</pre><b>In a Jupyter environment, please rerun this cell to show the HTML representation or trust the notebook. <br />On GitHub, the HTML representation is unable to render, please try loading this page with nbviewer.org.</b></div><div class=\"sk-container\" hidden><div class=\"sk-item\"><div class=\"sk-estimator sk-toggleable\"><input class=\"sk-toggleable__control sk-hidden--visually\" id=\"sk-estimator-id-5\" type=\"checkbox\" checked><label for=\"sk-estimator-id-5\" class=\"sk-toggleable__label sk-toggleable__label-arrow\">GaussianNB</label><div class=\"sk-toggleable__content\"><pre>GaussianNB()</pre></div></div></div></div></div>"
      ],
      "text/plain": [
       "GaussianNB()"
      ]
     },
     "execution_count": 38,
     "metadata": {},
     "output_type": "execute_result"
    }
   ],
   "source": [
    "model_nb = GaussianNB()\n",
    "model_nb"
   ]
  },
  {
   "cell_type": "markdown",
   "id": "b94e9c5d",
   "metadata": {},
   "source": [
    "# Pelatihan Model"
   ]
  },
  {
   "cell_type": "markdown",
   "id": "1c95e6ee",
   "metadata": {},
   "source": [
    "## Logistic Regression"
   ]
  },
  {
   "cell_type": "code",
   "execution_count": 39,
   "id": "66709e7f",
   "metadata": {},
   "outputs": [],
   "source": [
    "model_lr.fit(X_train, y_train)\n",
    "y_pred_lr = model_lr.predict(X_test)"
   ]
  },
  {
   "cell_type": "markdown",
   "id": "e6244193",
   "metadata": {},
   "source": [
    "## K-Nearest Neighbors"
   ]
  },
  {
   "cell_type": "code",
   "execution_count": 40,
   "id": "2b289bd5",
   "metadata": {},
   "outputs": [],
   "source": [
    "model_knn.fit(X_train, y_train)\n",
    "y_pred_knn = model_knn.predict(X_test)"
   ]
  },
  {
   "cell_type": "markdown",
   "id": "23593e8b",
   "metadata": {},
   "source": [
    "## Support Vector Machine"
   ]
  },
  {
   "cell_type": "code",
   "execution_count": 41,
   "id": "52d6a33c",
   "metadata": {},
   "outputs": [],
   "source": [
    "model_svm.fit(X_train, y_train)\n",
    "y_pred_svm = model_svm.predict(X_test)"
   ]
  },
  {
   "cell_type": "markdown",
   "id": "f62c9cf1",
   "metadata": {},
   "source": [
    "## Decision Tree"
   ]
  },
  {
   "cell_type": "code",
   "execution_count": 42,
   "id": "f3ee5a2a",
   "metadata": {},
   "outputs": [],
   "source": [
    "model_tree.fit(X_train, y_train)\n",
    "y_pred_tree = model_tree.predict(X_test)"
   ]
  },
  {
   "cell_type": "markdown",
   "id": "91ae9dd5",
   "metadata": {},
   "source": [
    "## Random Forest"
   ]
  },
  {
   "cell_type": "code",
   "execution_count": 43,
   "id": "5d7bedbd",
   "metadata": {},
   "outputs": [],
   "source": [
    "model_rf.fit(X_train, y_train)\n",
    "y_pred_rf = model_rf.predict(X_test)"
   ]
  },
  {
   "cell_type": "markdown",
   "id": "2499fdbc",
   "metadata": {},
   "source": [
    "## Naive Bayes"
   ]
  },
  {
   "cell_type": "code",
   "execution_count": 44,
   "id": "ea6ba2b1",
   "metadata": {},
   "outputs": [],
   "source": [
    "model_nb.fit(X_train, y_train)\n",
    "y_pred_nb = model_nb.predict(X_test)"
   ]
  },
  {
   "cell_type": "markdown",
   "id": "d9e73e85",
   "metadata": {},
   "source": [
    "# Evaluasi Model"
   ]
  },
  {
   "cell_type": "markdown",
   "id": "7a74b6f7",
   "metadata": {},
   "source": [
    "Evaluasi model dengan matriks yang tepat juga dapat membantu dalam mengatasi imbalanced data yang ada pada dataset ini."
   ]
  },
  {
   "cell_type": "markdown",
   "id": "d33188e4",
   "metadata": {},
   "source": [
    "## Logistic Regression"
   ]
  },
  {
   "cell_type": "code",
   "execution_count": 45,
   "id": "ee5960c8",
   "metadata": {
    "scrolled": false
   },
   "outputs": [
    {
     "data": {
      "image/png": "[encoded data removed]",
      "text/plain": [
       "<Figure size 360x288 with 2 Axes>"
      ]
     },
     "metadata": {
      "needs_background": "light"
     },
     "output_type": "display_data"
    },
    {
     "name": "stdout",
     "output_type": "stream",
     "text": [
      "Classification Report:\n",
      "               precision    recall  f1-score   support\n",
      "\n",
      "           0       0.79      0.97      0.87        62\n",
      "           1       0.86      0.43      0.57        28\n",
      "\n",
      "    accuracy                           0.80        90\n",
      "   macro avg       0.82      0.70      0.72        90\n",
      "weighted avg       0.81      0.80      0.78        90\n",
      "\n",
      "Accuracy Score:- 0.8\n",
      "Precision Score:- 0.8571428571428571\n",
      "Recall Score:- 0.42857142857142855\n",
      "F1 Score: 0.5714285714285714\n"
     ]
    }
   ],
   "source": [
    "# Create a confusion Matrix\n",
    "cm = confusion_matrix(y_test, y_pred_lr)\n",
    "\n",
    "plt.figure(figsize=(5,4))\n",
    "sns.heatmap(cm, annot=True,fmt=\".0f\", cmap=\"YlOrRd\", annot_kws={\"fontsize\":12})\n",
    "plt.title(\"Logistic Regression\\nAccuracy:{:.3f}\".format(accuracy_score(y_test, y_pred_lr)), fontsize=14)\n",
    "plt.xlabel(\"Predicted\", fontsize=12)\n",
    "plt.ylabel(\"Actual\", fontsize=12)\n",
    "plt.show()\n",
    "print(\"Classification Report:\\n\", classification_report(y_test, y_pred_lr))\n",
    "\n",
    "print(f'Accuracy Score:- {accuracy_score(y_test, y_pred_lr)}')\n",
    "print(f'Precision Score:- {precision_score(y_test,y_pred_lr)}')\n",
    "print(f'Recall Score:- {recall_score(y_test,y_pred_lr)}')\n",
    "print(\"F1 Score:\",f1_score(y_test,y_pred_lr))"
   ]
  },
  {
   "cell_type": "markdown",
   "id": "c3da53ba",
   "metadata": {},
   "source": [
    "## K-Nearest Neighbors"
   ]
  },
  {
   "cell_type": "code",
   "execution_count": 46,
   "id": "ea2b9438",
   "metadata": {},
   "outputs": [
    {
     "data": {
      "image/png": "[encoded data removed]",
      "text/plain": [
       "<Figure size 360x288 with 2 Axes>"
      ]
     },
     "metadata": {
      "needs_background": "light"
     },
     "output_type": "display_data"
    },
    {
     "name": "stdout",
     "output_type": "stream",
     "text": [
      "Classification Report:\n",
      "               precision    recall  f1-score   support\n",
      "\n",
      "           0       0.77      0.97      0.86        62\n",
      "           1       0.83      0.36      0.50        28\n",
      "\n",
      "    accuracy                           0.78        90\n",
      "   macro avg       0.80      0.66      0.68        90\n",
      "weighted avg       0.79      0.78      0.75        90\n",
      "\n",
      "Accuracy Score:- 0.7777777777777778\n",
      "Precision Score:- 0.8333333333333334\n",
      "Recall Score:- 0.35714285714285715\n",
      "F1 Score: 0.5\n"
     ]
    }
   ],
   "source": [
    "# Create a confusion Matrix\n",
    "cm = confusion_matrix(y_test, y_pred_knn)\n",
    "\n",
    "plt.figure(figsize=(5,4))\n",
    "sns.heatmap(cm, annot=True,fmt=\".0f\", cmap=\"YlOrRd\", annot_kws={\"fontsize\":12})\n",
    "plt.title(\"K-Nearest Neighbors\\nAccuracy:{:.3f}\".format(accuracy_score(y_test, y_pred_knn)), fontsize=14)\n",
    "plt.xlabel(\"Predicted\", fontsize=12)\n",
    "plt.ylabel(\"Actual\", fontsize=12)\n",
    "plt.show()\n",
    "print(\"Classification Report:\\n\", classification_report(y_test, y_pred_knn))\n",
    "\n",
    "print(f'Accuracy Score:- {accuracy_score(y_test, y_pred_knn)}')\n",
    "print(f'Precision Score:- {precision_score(y_test,y_pred_knn)}')\n",
    "print(f'Recall Score:- {recall_score(y_test,y_pred_knn)}')\n",
    "print(\"F1 Score:\",f1_score(y_test,y_pred_knn))"
   ]
  },
  {
   "cell_type": "markdown",
   "id": "a58e6f45",
   "metadata": {},
   "source": [
    "## Support Vector Machine"
   ]
  },
  {
   "cell_type": "code",
   "execution_count": 47,
   "id": "8c8f3fe3",
   "metadata": {},
   "outputs": [
    {
     "data": {
      "image/png": "[encoded data removed]",
      "text/plain": [
       "<Figure size 360x288 with 2 Axes>"
      ]
     },
     "metadata": {
      "needs_background": "light"
     },
     "output_type": "display_data"
    },
    {
     "name": "stdout",
     "output_type": "stream",
     "text": [
      "Classification Report:\n",
      "               precision    recall  f1-score   support\n",
      "\n",
      "           0       0.81      0.97      0.88        62\n",
      "           1       0.88      0.50      0.64        28\n",
      "\n",
      "    accuracy                           0.82        90\n",
      "   macro avg       0.84      0.73      0.76        90\n",
      "weighted avg       0.83      0.82      0.81        90\n",
      "\n",
      "Accuracy Score:- 0.8222222222222222\n",
      "Precision Score:- 0.875\n",
      "Recall Score:- 0.5\n",
      "F1 Score: 0.6363636363636364\n"
     ]
    }
   ],
   "source": [
    "# Create a confusion Matrix\n",
    "cm = confusion_matrix(y_test, y_pred_svm)\n",
    "\n",
    "plt.figure(figsize=(5,4))\n",
    "sns.heatmap(cm, annot=True,fmt=\".0f\", cmap=\"YlOrRd\", annot_kws={\"fontsize\":12})\n",
    "plt.title(\"Support Vector Machine\\nAccuracy:{:.3f}\".format(accuracy_score(y_test, y_pred_svm)), fontsize=14)\n",
    "plt.xlabel(\"Predicted\", fontsize=12)\n",
    "plt.ylabel(\"Actual\", fontsize=12)\n",
    "plt.show()\n",
    "print(\"Classification Report:\\n\", classification_report(y_test, y_pred_svm))\n",
    "\n",
    "print(f'Accuracy Score:- {accuracy_score(y_test, y_pred_svm)}')\n",
    "print(f'Precision Score:- {precision_score(y_test,y_pred_svm)}')\n",
    "print(f'Recall Score:- {recall_score(y_test,y_pred_svm)}')\n",
    "print(\"F1 Score:\",f1_score(y_test,y_pred_svm))"
   ]
  },
  {
   "cell_type": "markdown",
   "id": "b92a286c",
   "metadata": {},
   "source": [
    "## Decision Tree"
   ]
  },
  {
   "cell_type": "code",
   "execution_count": 48,
   "id": "47f86ff2",
   "metadata": {},
   "outputs": [
    {
     "data": {
      "image/png": "[encoded data removed]",
      "text/plain": [
       "<Figure size 360x288 with 2 Axes>"
      ]
     },
     "metadata": {
      "needs_background": "light"
     },
     "output_type": "display_data"
    },
    {
     "name": "stdout",
     "output_type": "stream",
     "text": [
      "Classification Report:\n",
      "               precision    recall  f1-score   support\n",
      "\n",
      "           0       0.86      0.81      0.83        62\n",
      "           1       0.62      0.71      0.67        28\n",
      "\n",
      "    accuracy                           0.78        90\n",
      "   macro avg       0.74      0.76      0.75        90\n",
      "weighted avg       0.79      0.78      0.78        90\n",
      "\n",
      "Accuracy Score:- 0.7777777777777778\n",
      "Precision Score:- 0.625\n",
      "Recall Score:- 0.7142857142857143\n",
      "F1 Score: 0.6666666666666666\n"
     ]
    }
   ],
   "source": [
    "# Create a confusion Matrix\n",
    "cm = confusion_matrix(y_test, y_pred_tree)\n",
    "\n",
    "plt.figure(figsize=(5,4))\n",
    "sns.heatmap(cm, annot=True,fmt=\".0f\", cmap=\"YlOrRd\", annot_kws={\"fontsize\":12})\n",
    "plt.title(\"Decision Tree\\nAccuracy:{:.3f}\".format(accuracy_score(y_test, y_pred_tree)), fontsize=14)\n",
    "plt.xlabel(\"Predicted\", fontsize=12)\n",
    "plt.ylabel(\"Actual\", fontsize=12)\n",
    "plt.show()\n",
    "print(\"Classification Report:\\n\", classification_report(y_test, y_pred_tree))\n",
    "\n",
    "print(f'Accuracy Score:- {accuracy_score(y_test, y_pred_tree)}')\n",
    "print(f'Precision Score:- {precision_score(y_test,y_pred_tree)}')\n",
    "print(f'Recall Score:- {recall_score(y_test,y_pred_tree)}')\n",
    "print(\"F1 Score:\",f1_score(y_test,y_pred_tree))"
   ]
  },
  {
   "cell_type": "markdown",
   "id": "6f1a3919",
   "metadata": {},
   "source": [
    "## Random Forest"
   ]
  },
  {
   "cell_type": "code",
   "execution_count": 49,
   "id": "e139635b",
   "metadata": {},
   "outputs": [
    {
     "data": {
      "image/png": "[encoded data removed]",
      "text/plain": [
       "<Figure size 360x288 with 2 Axes>"
      ]
     },
     "metadata": {
      "needs_background": "light"
     },
     "output_type": "display_data"
    },
    {
     "name": "stdout",
     "output_type": "stream",
     "text": [
      "Classification Report:\n",
      "               precision    recall  f1-score   support\n",
      "\n",
      "           0       0.86      0.92      0.89        62\n",
      "           1       0.79      0.68      0.73        28\n",
      "\n",
      "    accuracy                           0.84        90\n",
      "   macro avg       0.83      0.80      0.81        90\n",
      "weighted avg       0.84      0.84      0.84        90\n",
      "\n",
      "Accuracy Score:- 0.8444444444444444\n",
      "Precision Score:- 0.7916666666666666\n",
      "Recall Score:- 0.6785714285714286\n",
      "F1 Score: 0.7307692307692307\n"
     ]
    }
   ],
   "source": [
    "# Create a confusion Matrix\n",
    "cm = confusion_matrix(y_test, y_pred_rf)\n",
    "\n",
    "plt.figure(figsize=(5,4))\n",
    "sns.heatmap(cm, annot=True,fmt=\".0f\", cmap=\"YlOrRd\", annot_kws={\"fontsize\":12})\n",
    "plt.title(\"Random Forest\\nAccuracy:{:.3f}\".format(accuracy_score(y_test, y_pred_rf)), fontsize=14)\n",
    "plt.xlabel(\"Predicted\", fontsize=12)\n",
    "plt.ylabel(\"Actual\", fontsize=12)\n",
    "plt.show()\n",
    "print(\"Classification Report:\\n\", classification_report(y_test, y_pred_rf))\n",
    "\n",
    "print(f'Accuracy Score:- {accuracy_score(y_test, y_pred_rf)}')\n",
    "print(f'Precision Score:- {precision_score(y_test,y_pred_rf)}')\n",
    "print(f'Recall Score:- {recall_score(y_test,y_pred_rf)}')\n",
    "print(\"F1 Score:\",f1_score(y_test,y_pred_rf))"
   ]
  },
  {
   "cell_type": "markdown",
   "id": "6f4ab2c2",
   "metadata": {},
   "source": [
    "## Naive Bayes"
   ]
  },
  {
   "cell_type": "code",
   "execution_count": 50,
   "id": "32dc241b",
   "metadata": {
    "scrolled": false
   },
   "outputs": [
    {
     "data": {
      "image/png": "[encoded data removed]",
      "text/plain": [
       "<Figure size 360x288 with 2 Axes>"
      ]
     },
     "metadata": {
      "needs_background": "light"
     },
     "output_type": "display_data"
    },
    {
     "name": "stdout",
     "output_type": "stream",
     "text": [
      "Classification Report:\n",
      "               precision    recall  f1-score   support\n",
      "\n",
      "           0       0.81      0.95      0.87        62\n",
      "           1       0.82      0.50      0.62        28\n",
      "\n",
      "    accuracy                           0.81        90\n",
      "   macro avg       0.82      0.73      0.75        90\n",
      "weighted avg       0.81      0.81      0.80        90\n",
      "\n",
      "Accuracy Score:- 0.8111111111111111\n",
      "Precision Score:- 0.8235294117647058\n",
      "Recall Score:- 0.5\n",
      "F1 Score: 0.6222222222222222\n"
     ]
    }
   ],
   "source": [
    "# Create a confusion Matrix\n",
    "cm = confusion_matrix(y_test, y_pred_nb)\n",
    "\n",
    "plt.figure(figsize=(5,4))\n",
    "sns.heatmap(cm, annot=True,fmt=\".0f\", cmap=\"YlOrRd\", annot_kws={\"fontsize\":12})\n",
    "plt.title(\"Naive Bayes\\nAccuracy:{:.3f}\".format(accuracy_score(y_test, y_pred_nb)), fontsize=14)\n",
    "plt.xlabel(\"Predicted\", fontsize=12)\n",
    "plt.ylabel(\"Actual\", fontsize=12)\n",
    "plt.show()\n",
    "print(\"Classification Report:\\n\", classification_report(y_test, y_pred_nb))\n",
    "\n",
    "print(f'Accuracy Score:- {accuracy_score(y_test, y_pred_nb)}')\n",
    "print(f'Precision Score:- {precision_score(y_test,y_pred_nb)}')\n",
    "print(f'Recall Score:- {recall_score(y_test,y_pred_nb)}')\n",
    "print(\"F1 Score:\",f1_score(y_test,y_pred_nb))"
   ]
  },
  {
   "cell_type": "markdown",
   "id": "9b2961fd",
   "metadata": {},
   "source": [
    "Dari model yang berhasil kita buat pada macam-macam algoritma klasifikasi, dapat kita lihat pada nilai F1 score dari klasifikasi Random Forest memiliki nilai yang paling besar, yaitu sebesar 0.720000. Hal ini berarti model klasifikasi random forest lah yang paling baik dalam mempredikisi resiko kematian sesorang yang diakibatkan oleh penyakit jantung.Algoritma Random Forest memiliki nilai akurasi sebesar 84%, nilai precision sebesar 0.82, recall sebesar 0.64, dan f1-score sebesar 0.72."
   ]
  },
  {
   "cell_type": "markdown",
   "id": "cd0609eb",
   "metadata": {},
   "source": [
    "<b> Jadi alasan menggunakan random forest adalah karena random forest merupakan hasil penghitungan decision tree beberapa kali (200, 300, 400, 500, dst) sehingga membentuk sebuah forest (hutan kecil) dan secara tidak langsung juga sudah termasuk ensemble karena terdiri atas beberapa decision tree. Dengan menggunakan teknik ini maka semakin banyak prediksi yang dilakukan sehingga dapat meningkatkan rata-rata dan juga tingkat akurasi dari prediksi model, selain itu juga teknik ini bisa meminimumkan bias (error) nya. Satu atau dua hasil prediksi yang salah memang buruk, namun jika hanya ada 2 prediksi salah dari 500 prediksi, maka ia tidak akan menganggu nilai rataannya. Semakin banyak prediksi, semakin baik hasil akurasi dan stabilitasnya, walaupun juga akan memakan waktu lebih banyak untuk komputasinya. \n",
    "\n",
    "<b> Selain itu dengan menggunakan random forest juga fapat membantu kita dalam mengatasi nilai varians yang tinggi, dan juga dapat mengatasi model yang cenderung overfit. Dengan adanya jenis pohon yang acak atau berbeda dapat mencegah korelasi antara tree jika tiap tree mirip satu sama yang lain. </b>\n",
    "\n",
    "***Sumber:***\n",
    "    \n",
    "https://www.megabagus.id/machine-learning-random-forest-regression/#:~:text=Jadi%20alasan%20mengapa%20disebut%20random,average)%20dari%20sekian%20banyak%20prediksi"
   ]
  },
  {
   "cell_type": "markdown",
   "id": "75853fa8",
   "metadata": {},
   "source": [
    "# Feature Importance"
   ]
  },
  {
   "cell_type": "markdown",
   "id": "b94e6277",
   "metadata": {},
   "source": [
    "Setelah mendapatkan model prediksi klasifikasi terbaik, akan dicek *feature Importance* dari data yaitu mengetahui fitur/kolom mana saja yang paling berpengaruh untuk menentukan prediksi target."
   ]
  },
  {
   "cell_type": "code",
   "execution_count": 51,
   "id": "ea7cd61e",
   "metadata": {},
   "outputs": [],
   "source": [
    "data2 = data.copy()\n",
    "data2.drop(\"DEATH_EVENT\", axis=1, inplace=True)\n",
    "feature_names = list(data2.columns.values)"
   ]
  },
  {
   "cell_type": "code",
   "execution_count": 52,
   "id": "0d9241ca",
   "metadata": {},
   "outputs": [
    {
     "data": {
      "text/plain": [
       "time                   0.427454\n",
       "ejection_fraction      0.182739\n",
       "age                    0.157081\n",
       "serum_sodium           0.117972\n",
       "anemia                 0.029430\n",
       "sex                    0.022608\n",
       "high_blood_pressure    0.022290\n",
       "diabetes               0.020413\n",
       "smoking                0.020014\n",
       "dtype: float64"
      ]
     },
     "execution_count": 52,
     "metadata": {},
     "output_type": "execute_result"
    }
   ],
   "source": [
    "feature_imp = pd.Series(model_rf.feature_importances_, index=feature_names).sort_values(ascending=False)\n",
    "feature_imp"
   ]
  },
  {
   "cell_type": "markdown",
   "id": "1256ae3e",
   "metadata": {},
   "source": [
    "Pada algoritma RandomForestClassifier, terdapat perhitungan untuk mengukur feature importances. Dapat dilihat bahwa 1 variabel yang memiliki nilai *feature Importance* paling tinggi yaitu `time`, lalu diikuti oleh `ejection_fraction`, dan `age`."
   ]
  },
  {
   "cell_type": "code",
   "execution_count": 53,
   "id": "aafdb9ea",
   "metadata": {
    "scrolled": false
   },
   "outputs": [
    {
     "data": {
      "image/png": "[encoded data removed]",
      "text/plain": [
       "<Figure size 864x504 with 1 Axes>"
      ]
     },
     "metadata": {
      "needs_background": "light"
     },
     "output_type": "display_data"
    }
   ],
   "source": [
    "plt.figure(figsize=(12, 7))\n",
    "sns.barplot(x=feature_imp, y=feature_imp.index)\n",
    "plt.xlabel(\"Feature Importance Score\")\n",
    "plt.ylabel(\"Features\")\n",
    "plt.title(\"Visualisasi Feature Importance masing-masing fitur\")\n",
    "\n",
    "plt.show()"
   ]
  },
  {
   "cell_type": "markdown",
   "id": "14c19225",
   "metadata": {},
   "source": [
    "Berdasarkan plot dari feature importance diatas dapat kita ketahui bahwa <b>high blood pressure, diabetes</b>, dan <b>smoking</b> memiliki nilai feature importance terkecil sehingga variabel tersebut kita hapus karena tidak berpengaruh terhadap model prediksi ataupun bahkan menurunkan akurasi dari model prediksi."
   ]
  },
  {
   "cell_type": "markdown",
   "id": "43f53521",
   "metadata": {},
   "source": [
    "#### Menghapus beberapa data yang memiliki score yang kecil diantara data lainnya dan berpengaruh terhadap akurasi model yaitu high blood pressure, diabetes, smoking."
   ]
  },
  {
   "cell_type": "code",
   "execution_count": 54,
   "id": "000d9b87",
   "metadata": {
    "scrolled": true
   },
   "outputs": [
    {
     "data": {
      "text/html": [
       "<div>\n",
       "<style scoped>\n",
       "    .dataframe tbody tr th:only-of-type {\n",
       "        vertical-align: middle;\n",
       "    }\n",
       "\n",
       "    .dataframe tbody tr th {\n",
       "        vertical-align: top;\n",
       "    }\n",
       "\n",
       "    .dataframe thead th {\n",
       "        text-align: right;\n",
       "    }\n",
       "</style>\n",
       "<table border=\"1\" class=\"dataframe\">\n",
       "  <thead>\n",
       "    <tr style=\"text-align: right;\">\n",
       "      <th></th>\n",
       "      <th>age</th>\n",
       "      <th>anemia</th>\n",
       "      <th>ejection_fraction</th>\n",
       "      <th>serum_sodium</th>\n",
       "      <th>sex</th>\n",
       "      <th>time</th>\n",
       "    </tr>\n",
       "  </thead>\n",
       "  <tbody>\n",
       "    <tr>\n",
       "      <th>0</th>\n",
       "      <td>75.0</td>\n",
       "      <td>0</td>\n",
       "      <td>20</td>\n",
       "      <td>130</td>\n",
       "      <td>1</td>\n",
       "      <td>4</td>\n",
       "    </tr>\n",
       "    <tr>\n",
       "      <th>1</th>\n",
       "      <td>55.0</td>\n",
       "      <td>0</td>\n",
       "      <td>38</td>\n",
       "      <td>136</td>\n",
       "      <td>1</td>\n",
       "      <td>6</td>\n",
       "    </tr>\n",
       "    <tr>\n",
       "      <th>2</th>\n",
       "      <td>65.0</td>\n",
       "      <td>0</td>\n",
       "      <td>20</td>\n",
       "      <td>129</td>\n",
       "      <td>1</td>\n",
       "      <td>7</td>\n",
       "    </tr>\n",
       "    <tr>\n",
       "      <th>3</th>\n",
       "      <td>50.0</td>\n",
       "      <td>1</td>\n",
       "      <td>20</td>\n",
       "      <td>137</td>\n",
       "      <td>1</td>\n",
       "      <td>7</td>\n",
       "    </tr>\n",
       "    <tr>\n",
       "      <th>4</th>\n",
       "      <td>65.0</td>\n",
       "      <td>1</td>\n",
       "      <td>20</td>\n",
       "      <td>116</td>\n",
       "      <td>0</td>\n",
       "      <td>8</td>\n",
       "    </tr>\n",
       "    <tr>\n",
       "      <th>...</th>\n",
       "      <td>...</td>\n",
       "      <td>...</td>\n",
       "      <td>...</td>\n",
       "      <td>...</td>\n",
       "      <td>...</td>\n",
       "      <td>...</td>\n",
       "    </tr>\n",
       "    <tr>\n",
       "      <th>294</th>\n",
       "      <td>62.0</td>\n",
       "      <td>0</td>\n",
       "      <td>38</td>\n",
       "      <td>143</td>\n",
       "      <td>1</td>\n",
       "      <td>270</td>\n",
       "    </tr>\n",
       "    <tr>\n",
       "      <th>295</th>\n",
       "      <td>55.0</td>\n",
       "      <td>0</td>\n",
       "      <td>38</td>\n",
       "      <td>139</td>\n",
       "      <td>0</td>\n",
       "      <td>271</td>\n",
       "    </tr>\n",
       "    <tr>\n",
       "      <th>296</th>\n",
       "      <td>45.0</td>\n",
       "      <td>0</td>\n",
       "      <td>60</td>\n",
       "      <td>138</td>\n",
       "      <td>0</td>\n",
       "      <td>278</td>\n",
       "    </tr>\n",
       "    <tr>\n",
       "      <th>297</th>\n",
       "      <td>45.0</td>\n",
       "      <td>0</td>\n",
       "      <td>38</td>\n",
       "      <td>140</td>\n",
       "      <td>1</td>\n",
       "      <td>280</td>\n",
       "    </tr>\n",
       "    <tr>\n",
       "      <th>298</th>\n",
       "      <td>50.0</td>\n",
       "      <td>0</td>\n",
       "      <td>45</td>\n",
       "      <td>136</td>\n",
       "      <td>1</td>\n",
       "      <td>285</td>\n",
       "    </tr>\n",
       "  </tbody>\n",
       "</table>\n",
       "<p>299 rows × 6 columns</p>\n",
       "</div>"
      ],
      "text/plain": [
       "      age  anemia  ejection_fraction  serum_sodium  sex  time\n",
       "0    75.0       0                 20           130    1     4\n",
       "1    55.0       0                 38           136    1     6\n",
       "2    65.0       0                 20           129    1     7\n",
       "3    50.0       1                 20           137    1     7\n",
       "4    65.0       1                 20           116    0     8\n",
       "..    ...     ...                ...           ...  ...   ...\n",
       "294  62.0       0                 38           143    1   270\n",
       "295  55.0       0                 38           139    0   271\n",
       "296  45.0       0                 60           138    0   278\n",
       "297  45.0       0                 38           140    1   280\n",
       "298  50.0       0                 45           136    1   285\n",
       "\n",
       "[299 rows x 6 columns]"
      ]
     },
     "execution_count": 54,
     "metadata": {},
     "output_type": "execute_result"
    }
   ],
   "source": [
    "data2 = data2.drop(['smoking','high_blood_pressure','diabetes'], axis=1)\n",
    "data2"
   ]
  },
  {
   "cell_type": "code",
   "execution_count": 55,
   "id": "1c6f721d",
   "metadata": {
    "scrolled": true
   },
   "outputs": [
    {
     "data": {
      "text/html": [
       "<div>\n",
       "<style scoped>\n",
       "    .dataframe tbody tr th:only-of-type {\n",
       "        vertical-align: middle;\n",
       "    }\n",
       "\n",
       "    .dataframe tbody tr th {\n",
       "        vertical-align: top;\n",
       "    }\n",
       "\n",
       "    .dataframe thead th {\n",
       "        text-align: right;\n",
       "    }\n",
       "</style>\n",
       "<table border=\"1\" class=\"dataframe\">\n",
       "  <thead>\n",
       "    <tr style=\"text-align: right;\">\n",
       "      <th></th>\n",
       "      <th>age</th>\n",
       "      <th>anemia</th>\n",
       "      <th>ejection_fraction</th>\n",
       "      <th>serum_sodium</th>\n",
       "      <th>sex</th>\n",
       "      <th>time</th>\n",
       "    </tr>\n",
       "  </thead>\n",
       "  <tbody>\n",
       "    <tr>\n",
       "      <th>0</th>\n",
       "      <td>1.192945</td>\n",
       "      <td>-0.871105</td>\n",
       "      <td>-1.530560</td>\n",
       "      <td>-1.504036</td>\n",
       "      <td>0.735688</td>\n",
       "      <td>-1.629502</td>\n",
       "    </tr>\n",
       "    <tr>\n",
       "      <th>1</th>\n",
       "      <td>-0.491279</td>\n",
       "      <td>-0.871105</td>\n",
       "      <td>-0.007077</td>\n",
       "      <td>-0.141976</td>\n",
       "      <td>0.735688</td>\n",
       "      <td>-1.603691</td>\n",
       "    </tr>\n",
       "    <tr>\n",
       "      <th>2</th>\n",
       "      <td>0.350833</td>\n",
       "      <td>-0.871105</td>\n",
       "      <td>-1.530560</td>\n",
       "      <td>-1.731046</td>\n",
       "      <td>0.735688</td>\n",
       "      <td>-1.590785</td>\n",
       "    </tr>\n",
       "    <tr>\n",
       "      <th>3</th>\n",
       "      <td>-0.912335</td>\n",
       "      <td>1.147968</td>\n",
       "      <td>-1.530560</td>\n",
       "      <td>0.085034</td>\n",
       "      <td>0.735688</td>\n",
       "      <td>-1.590785</td>\n",
       "    </tr>\n",
       "    <tr>\n",
       "      <th>4</th>\n",
       "      <td>0.350833</td>\n",
       "      <td>1.147968</td>\n",
       "      <td>-1.530560</td>\n",
       "      <td>-4.682176</td>\n",
       "      <td>-1.359272</td>\n",
       "      <td>-1.577879</td>\n",
       "    </tr>\n",
       "  </tbody>\n",
       "</table>\n",
       "</div>"
      ],
      "text/plain": [
       "        age    anemia  ejection_fraction  serum_sodium       sex      time\n",
       "0  1.192945 -0.871105          -1.530560     -1.504036  0.735688 -1.629502\n",
       "1 -0.491279 -0.871105          -0.007077     -0.141976  0.735688 -1.603691\n",
       "2  0.350833 -0.871105          -1.530560     -1.731046  0.735688 -1.590785\n",
       "3 -0.912335  1.147968          -1.530560      0.085034  0.735688 -1.590785\n",
       "4  0.350833  1.147968          -1.530560     -4.682176 -1.359272 -1.577879"
      ]
     },
     "execution_count": 55,
     "metadata": {},
     "output_type": "execute_result"
    }
   ],
   "source": [
    "scaler_ = StandardScaler()\n",
    "scaled_features_ = scaler_.fit_transform(data2)\n",
    "df_feat_ = pd.DataFrame(scaled_features_, columns = data2.columns)\n",
    "df_feat_.head()"
   ]
  },
  {
   "cell_type": "code",
   "execution_count": 56,
   "id": "f52668a0",
   "metadata": {},
   "outputs": [],
   "source": [
    "X_ = df_feat_\n",
    "y_ = data[\"DEATH_EVENT\"]"
   ]
  },
  {
   "cell_type": "code",
   "execution_count": 57,
   "id": "7b7ab2c4",
   "metadata": {},
   "outputs": [],
   "source": [
    "# Membagi data testing dan data training\n",
    "X_train_, X_test_, y_train_, y_test_ = train_test_split(X_, y_, test_size=0.3, random_state=0)"
   ]
  },
  {
   "cell_type": "code",
   "execution_count": 58,
   "id": "5037c356",
   "metadata": {},
   "outputs": [],
   "source": [
    "# Pendefinisan model\n",
    "model_rf_2 = RandomForestClassifier(n_estimators=100, random_state=0)"
   ]
  },
  {
   "cell_type": "code",
   "execution_count": 59,
   "id": "013a0bd6",
   "metadata": {},
   "outputs": [
    {
     "data": {
      "image/png": "[encoded data removed]",
      "text/plain": [
       "<Figure size 360x288 with 2 Axes>"
      ]
     },
     "metadata": {
      "needs_background": "light"
     },
     "output_type": "display_data"
    },
    {
     "name": "stdout",
     "output_type": "stream",
     "text": [
      "Classification Report:\n",
      "               precision    recall  f1-score   support\n",
      "\n",
      "           0       0.88      0.92      0.90        62\n",
      "           1       0.80      0.71      0.75        28\n",
      "\n",
      "    accuracy                           0.86        90\n",
      "   macro avg       0.84      0.82      0.83        90\n",
      "weighted avg       0.85      0.86      0.85        90\n",
      "\n",
      "Accuracy Score:- 0.8555555555555555\n",
      "Precision Score:- 0.8\n",
      "Recall Score:- 0.7142857142857143\n",
      "F1 Score: 0.7547169811320756\n"
     ]
    }
   ],
   "source": [
    "# Melatih data\n",
    "model_rf_2.fit(X_train_, y_train_)\n",
    "y_pred_rf_ = model_rf_2.predict(X_test_)\n",
    "\n",
    "# Confusion Matrix\n",
    "cm = confusion_matrix(y_test_, y_pred_rf_)\n",
    "\n",
    "plt.figure(figsize=(5,4))\n",
    "sns.heatmap(cm, annot=True,fmt=\".0f\", cmap=\"YlOrRd\", annot_kws={\"fontsize\":12})\n",
    "plt.title(\"Random Forest\\nAccuracy:{:.3f}\".format(accuracy_score(y_test_, y_pred_rf_)), fontsize=14)\n",
    "plt.xlabel(\"Predicted\", fontsize=12)\n",
    "plt.ylabel(\"Actual\", fontsize=12)\n",
    "plt.show()\n",
    "print(\"Classification Report:\\n\", classification_report(y_test_, y_pred_rf_))\n",
    "\n",
    "print(f'Accuracy Score:- {accuracy_score(y_test, y_pred_rf_)}')\n",
    "print(f'Precision Score:- {precision_score(y_test,y_pred_rf_)}')\n",
    "print(f'Recall Score:- {recall_score(y_test,y_pred_rf_)}')\n",
    "print(\"F1 Score:\",f1_score(y_test,y_pred_rf_))"
   ]
  },
  {
   "cell_type": "markdown",
   "id": "8658a84c",
   "metadata": {},
   "source": [
    "Berdasarkan *output*, dapat kita ketahui bahwa algoritma terbaik adalah Random Forest dan setelah dilakukan pengecekan *feature importance* dengan nilai akurasi sebesar 0.85, precision sebesar 0.8, recall sebesar 0.71, dan f1-score sebesar 0.75. "
   ]
  },
  {
   "cell_type": "markdown",
   "id": "17a8f205",
   "metadata": {},
   "source": [
    "# Model Inference"
   ]
  },
  {
   "cell_type": "code",
   "execution_count": 60,
   "id": "bb7e3fc1",
   "metadata": {},
   "outputs": [
    {
     "data": {
      "text/html": [
       "<div>\n",
       "<style scoped>\n",
       "    .dataframe tbody tr th:only-of-type {\n",
       "        vertical-align: middle;\n",
       "    }\n",
       "\n",
       "    .dataframe tbody tr th {\n",
       "        vertical-align: top;\n",
       "    }\n",
       "\n",
       "    .dataframe thead th {\n",
       "        text-align: right;\n",
       "    }\n",
       "</style>\n",
       "<table border=\"1\" class=\"dataframe\">\n",
       "  <thead>\n",
       "    <tr style=\"text-align: right;\">\n",
       "      <th></th>\n",
       "      <th>age</th>\n",
       "      <th>anemia</th>\n",
       "      <th>ejection_fraction</th>\n",
       "      <th>serum_sodium</th>\n",
       "      <th>sex</th>\n",
       "      <th>time</th>\n",
       "    </tr>\n",
       "  </thead>\n",
       "  <tbody>\n",
       "    <tr>\n",
       "      <th>0</th>\n",
       "      <td>1.192945</td>\n",
       "      <td>-0.871105</td>\n",
       "      <td>-1.530560</td>\n",
       "      <td>-1.504036</td>\n",
       "      <td>0.735688</td>\n",
       "      <td>-1.629502</td>\n",
       "    </tr>\n",
       "    <tr>\n",
       "      <th>1</th>\n",
       "      <td>-0.491279</td>\n",
       "      <td>-0.871105</td>\n",
       "      <td>-0.007077</td>\n",
       "      <td>-0.141976</td>\n",
       "      <td>0.735688</td>\n",
       "      <td>-1.603691</td>\n",
       "    </tr>\n",
       "    <tr>\n",
       "      <th>2</th>\n",
       "      <td>0.350833</td>\n",
       "      <td>-0.871105</td>\n",
       "      <td>-1.530560</td>\n",
       "      <td>-1.731046</td>\n",
       "      <td>0.735688</td>\n",
       "      <td>-1.590785</td>\n",
       "    </tr>\n",
       "    <tr>\n",
       "      <th>3</th>\n",
       "      <td>-0.912335</td>\n",
       "      <td>1.147968</td>\n",
       "      <td>-1.530560</td>\n",
       "      <td>0.085034</td>\n",
       "      <td>0.735688</td>\n",
       "      <td>-1.590785</td>\n",
       "    </tr>\n",
       "    <tr>\n",
       "      <th>4</th>\n",
       "      <td>0.350833</td>\n",
       "      <td>1.147968</td>\n",
       "      <td>-1.530560</td>\n",
       "      <td>-4.682176</td>\n",
       "      <td>-1.359272</td>\n",
       "      <td>-1.577879</td>\n",
       "    </tr>\n",
       "  </tbody>\n",
       "</table>\n",
       "</div>"
      ],
      "text/plain": [
       "        age    anemia  ejection_fraction  serum_sodium       sex      time\n",
       "0  1.192945 -0.871105          -1.530560     -1.504036  0.735688 -1.629502\n",
       "1 -0.491279 -0.871105          -0.007077     -0.141976  0.735688 -1.603691\n",
       "2  0.350833 -0.871105          -1.530560     -1.731046  0.735688 -1.590785\n",
       "3 -0.912335  1.147968          -1.530560      0.085034  0.735688 -1.590785\n",
       "4  0.350833  1.147968          -1.530560     -4.682176 -1.359272 -1.577879"
      ]
     },
     "execution_count": 60,
     "metadata": {},
     "output_type": "execute_result"
    }
   ],
   "source": [
    "X_.head()"
   ]
  },
  {
   "cell_type": "markdown",
   "id": "4bfbf9c3",
   "metadata": {},
   "source": [
    "Untuk menguji keakuratan model, dilakukan *model inference* untuk menguji model dengan data di luar data yang tersedia.\n",
    "\n",
    "<b> Contoh Kasus: </b>\n",
    "\n",
    "1. Terdapat pasien yang berumur 58 tahun. Setelah dilakukan pemeriksaan, didapat hasil pemeriksaan sebagai berikut:\n",
    "- Pasien tidak memiliki riwayat anemia\n",
    "- Persentase darah yang keluar dari jantung setiap kontraksi (*ejection fraction*) sebesar 40 %\n",
    "- Level serum sodium sebesar 130 mEq/L\n",
    "- pasien berjenis kelamin wanita\n",
    "\n",
    "Pasien telah menjalani kontrol untuk *follow up* kondisi selama 10 hari. Apakah pasien memiliki risiko kematian akibat penyakit jantung?"
   ]
  },
  {
   "cell_type": "code",
   "execution_count": 61,
   "id": "2ea5e68c",
   "metadata": {},
   "outputs": [
    {
     "name": "stdout",
     "output_type": "stream",
     "text": [
      "Age:58\n",
      "Anemia:0\n",
      "Ejection Fraction Percentage:40\n",
      "Sodium Level:130\n",
      "Sex:0\n",
      "Follow up control: 10\n",
      "Input values: [[-0.2386456  -0.87110478  0.16219911 -1.50403612 -1.35927151 -1.55206738]]\n",
      "\n",
      "Pasien memiliki risiko kematian akibat penyakit jantung\n"
     ]
    }
   ],
   "source": [
    "age = int(input(\"Age:\"))\n",
    "anemia = int(input(\"Anemia:\"))\n",
    "e_f = float(input(\"Ejection Fraction Percentage:\"))\n",
    "s_sodium = float(input(\"Sodium Level:\"))\n",
    "sex = int(input(\"Sex:\"))\n",
    "time = int(input(\"Follow up control: \"))\n",
    "\n",
    "val = [age,anemia, e_f,s_sodium,sex,time]\n",
    "val = scaler_.transform([val])\n",
    "\n",
    "print('Input values:', val)\n",
    "\n",
    "val_predict = model_rf_2.predict(val)\n",
    "\n",
    "if val_predict == 1:\n",
    "    print('\\nPasien memiliki risiko kematian akibat penyakit jantung')\n",
    "else:\n",
    "    print('\\nPasien tidak memiliki risiko kematian akibat penyakit jantung')"
   ]
  },
  {
   "cell_type": "markdown",
   "id": "4434a71c",
   "metadata": {},
   "source": [
    "<b> Contoh Kasus: </b>\n",
    "\n",
    "2. Terdapat pasien yang berumur 15 tahun. Setelah dilakukan pemeriksaan, didapat hasil pemeriksaan sebagai berikut:\n",
    "- Pasien tidak memiliki riwayat anemia\n",
    "- Persentase darah yang keluar dari jantung setiap kontraksi (*ejection fraction*) sebesar 80 %\n",
    "- Level serum sodium sebesar 300 mEq/L\n",
    "- pasien berjenis kelamin wanita\n",
    "\n",
    "Pasien telah menjalani kontrol untuk *follow up* kondisi selama 50 hari. Apakah pasien memiliki risiko kematian akibat penyakit jantung?"
   ]
  },
  {
   "cell_type": "code",
   "execution_count": 62,
   "id": "c2e5df6b",
   "metadata": {},
   "outputs": [
    {
     "name": "stdout",
     "output_type": "stream",
     "text": [
      "Age:15\n",
      "Anemia:0\n",
      "Ejection Fraction Percentage:80\n",
      "Sodium Level:300\n",
      "Sex:0\n",
      "Follow up control: 50\n",
      "Input values: [[-3.85972829 -0.87110478  3.5477164  37.08766306 -1.35927151 -1.03583383]]\n",
      "\n",
      "Pasien tidak memiliki risiko kematian akibat penyakit jantung\n"
     ]
    }
   ],
   "source": [
    "age = int(input(\"Age:\"))\n",
    "anemia = int(input(\"Anemia:\"))\n",
    "e_f = float(input(\"Ejection Fraction Percentage:\"))\n",
    "s_sodium = float(input(\"Sodium Level:\"))\n",
    "sex = int(input(\"Sex:\"))\n",
    "time = int(input(\"Follow up control: \"))\n",
    "\n",
    "val = [age,anemia, e_f,s_sodium,sex,time]\n",
    "val = scaler_.transform([val])\n",
    "\n",
    "print('Input values:', val)\n",
    "\n",
    "val_predict = model_rf_2.predict(val)\n",
    "\n",
    "if val_predict == 1:\n",
    "    print('\\nPasien memiliki risiko kematian akibat penyakit jantung')\n",
    "else:\n",
    "    print('\\nPasien tidak memiliki risiko kematian akibat penyakit jantung')"
   ]
  },
  {
   "cell_type": "markdown",
   "id": "5607b539",
   "metadata": {},
   "source": [
    "# Kesimpulan\n"
   ]
  },
  {
   "cell_type": "markdown",
   "id": "a545653b",
   "metadata": {},
   "source": [
    "Berdasarkan keselruhan analisis yang sudah dilakukan, maka dapat disimpulkan bahwa:\n",
    "1. Project ini berisikan tentang penerapan materi Supervised Machine Learning yaitu dengan motode Classification. Terdapat beberapa algoritma dalam metode classification yang digunakan pada project kali ini, diantaranya Logistic Regression, K-Nearest Neighbors, Support Vector Machine (SVM), Decision Tree, dan Naive Bayes. Tujuan dilaksanakannnya proyek ini yaitu adalah ensemble atau mencari model prediksi klasifikasi terbaik dari beberapa algoritma diatas yang digunakan di dalam prediksi. Data yang digunakan dalam project ini adalah data dokumentasi kondisi pasien penderita penyakit Kardiovaskular. Dataset ini terdiri dari 299 baris dan 13 kolom dan kolom DEATH_EVENT akan menjadi variabel dependent atau target untuk prediksi ini. Jadi, pada proyek kali ini kita akan memprediksi apakah seorang pasien tersebut diperkirakan akan menerima risiko kematian akibat gagal jantung/penyakit Kardiovaskular atau tidak berdasarkan pada fitur yang ada pada dataset.\n",
    "2. Umur pasien yang tercatat dalam data yang memiliki frekuensi tertinggi yaitu sekitar umur 55 - 65 tahun.\n",
    "3. Berdasarkan visulasisasi dataset, diketahui bahwa usia 60 tahun adalah usia yang memiliki risiko kematian akibat penyakit jantung tertinggi, umur di atas 50 tahun memiliki risiko kematian yang lebih tinggi dan Umur di bawah 45 tahun memiliki risiko kematian yang rendah. Hal ini menunjukkan bahwa umur pasien cenderung mempengaruhi ada tidaknya risiko kematian\n",
    "4. Pada data, rasio antara pasien yang berumur di atas atau sama dengan 50 tahun yang memiliki risiko kematian dan yang tidak berisiko kematian memiliki perbandingan proporsi 1:2.\n",
    "5. Jumlah laki-laki (1) dengan resiko kematian akibat penyakit jantung cendering lebih banyak dibandingkan dengan wanita (0)\n",
    "6. Berdasarkan hasil analisis diketahui bahwa model klasifikasi yang terbaik adalah random forest karena memiliki nilai F1-score yang paling tinggi, selain itu penggunaaan random forest juga dikarenakan bahwa random forest sudah memenuhi sifat ensemble dimana random forest sendiri merupakan kumpulan dari beberapa decision tree, sehingga memungkinkan adanya nilai rata-rata dan juga tingkat akurasi prediksi yang lebih baik karena merupakan kumpulan dari beberapa *tree* yang berbeda.\n",
    "7. Diantara semua kolom atau fitur yang ada, berdasarkan pengecekan feature importance diketahui bahwa kolom yang paling berpengaruh adalah <b>time</b> yang berarti waktu *follow-up* pasian delam hitungan hari  memberikan pengaruh paling sgnifikan dalam menentukan risiko kematian sesorang akibat penyakit jantung. Dimana semakin tinggi jumlah waktu *follow-up* pasien, maka semakin rendah risiko kematian akibat gagal jantung begitupun sebaliknya.\n",
    "8. Berdasarkan plot pada *feature importance* dapat kita ketahui bahwa high blood pressure, diabetes, dan smoking memiliki nilai *feature importance* terkecil sehingga variabel tersebut dihapus karena tidak berpengaruh terhadap model prediksi ataupun bahkan menurunkan akurasi dari model prediksi.\n",
    "9. Setelah dilakukan pengecekan *feature importance* maka kita lakukan lagi evaluasi model dan didapatkan bahwa terjadi kenaikan pada tingkat akurasi sebesar 0.85, precision sebesar 0.8, recall sebesar 0.71, dan f1-score sebesar 0.75. "
   ]
  },
  {
   "cell_type": "markdown",
   "id": "42e97379",
   "metadata": {},
   "source": [
    "# Save and Load Models"
   ]
  },
  {
   "cell_type": "markdown",
   "id": "2509cfce",
   "metadata": {},
   "source": [
    "Pada tahap menyimpan serta membaca data ke dalam/dari sebuah file dapat digunakannya sebuah modul pickle."
   ]
  },
  {
   "cell_type": "code",
   "execution_count": 63,
   "id": "7b266b8f",
   "metadata": {},
   "outputs": [],
   "source": [
    "pickle_file_dir = open(\"rf_model2.pkl\", \"wb\")\n",
    "\n",
    "pickle.dump(model_rf_2, pickle_file_dir)\n",
    "pickle_file_dir.close()"
   ]
  },
  {
   "cell_type": "code",
   "execution_count": 64,
   "id": "1f61b26d",
   "metadata": {},
   "outputs": [],
   "source": [
    "pickle_file_read = open(\"rf_model2.pkl\", \"rb\")\n",
    "classifier = pickle.load(pickle_file_read)"
   ]
  },
  {
   "cell_type": "code",
   "execution_count": 65,
   "id": "49dbefd8",
   "metadata": {},
   "outputs": [
    {
     "data": {
      "text/plain": [
       "array([0, 0, 1, 0, 0, 0, 0, 0, 1, 0, 0, 1, 1, 0, 1, 1, 0, 0, 0, 0, 1, 0,\n",
       "       0, 0, 1, 0, 1, 0, 0, 0, 0, 1, 1, 0, 0, 0, 0, 0, 0, 1, 0, 1, 0, 1,\n",
       "       1, 0, 0, 0, 1, 1, 0, 0, 1, 0, 1, 0, 0, 1, 0, 0, 0, 0, 0, 0, 0, 0,\n",
       "       0, 0, 1, 1, 0, 0, 0, 1, 0, 0, 1, 1, 0, 0, 0, 0, 0, 0, 0, 0, 0, 0,\n",
       "       0, 0], dtype=int64)"
      ]
     },
     "execution_count": 65,
     "metadata": {},
     "output_type": "execute_result"
    }
   ],
   "source": [
    "classifier.predict(X_test_)"
   ]
  },
  {
   "cell_type": "code",
   "execution_count": 66,
   "id": "ad86dd8b",
   "metadata": {},
   "outputs": [],
   "source": [
    "pickle.dump(scaler_, open(r'C:\\Users\\RIDHO\\pythn\\final-project-3 (1)\\models\\scaler_.pkl','wb'))\n",
    "scaler_ = pickle.load(open(r'C:\\Users\\RIDHO\\pythn\\final-project-3 (1)\\models\\scaler_.pkl','rb'))"
   ]
  },
  {
   "cell_type": "code",
   "execution_count": null,
   "id": "da240769",
   "metadata": {},
   "outputs": [],
   "source": []
  }
 ],
 "metadata": {
  "kernelspec": {
   "display_name": "Python 3 (ipykernel)",
   "language": "python",
   "name": "python3"
  },
  "language_info": {
   "codemirror_mode": {
    "name": "ipython",
    "version": 3
   },
   "file_extension": ".py",
   "mimetype": "text/x-python",
   "name": "python",
   "nbconvert_exporter": "python",
   "pygments_lexer": "ipython3",
   "version": "3.9.12"
  },
  "toc": {
   "base_numbering": 1,
   "nav_menu": {},
   "number_sections": true,
   "sideBar": true,
   "skip_h1_title": false,
   "title_cell": "Table of Contents",
   "title_sidebar": "Contents",
   "toc_cell": false,
   "toc_position": {
    "height": "calc(100% - 180px)",
    "left": "10px",
    "top": "150px",
    "width": "307.986px"
   },
   "toc_section_display": true,
   "toc_window_display": true
  },
  "varInspector": {
   "cols": {
    "lenName": 16,
    "lenType": 16,
    "lenVar": 40
   },
   "kernels_config": {
    "python": {
     "delete_cmd_postfix": "",
     "delete_cmd_prefix": "del ",
     "library": "var_list.py",
     "varRefreshCmd": "print(var_dic_list())"
    },
    "r": {
     "delete_cmd_postfix": ") ",
     "delete_cmd_prefix": "rm(",
     "library": "var_list.r",
     "varRefreshCmd": "cat(var_dic_list()) "
    }
   },
   "types_to_exclude": [
    "module",
    "function",
    "builtin_function_or_method",
    "instance",
    "_Feature"
   ],
   "window_display": false
  }
 },
 "nbformat": 4,
 "nbformat_minor": 5
}
